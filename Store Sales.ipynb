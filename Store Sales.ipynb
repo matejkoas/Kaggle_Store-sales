{
 "cells": [
  {
   "cell_type": "markdown",
   "id": "b30f7cb1",
   "metadata": {},
   "source": [
    "# Store sales\n",
    " \n",
    "Задача по прогнозированию объема продаж в магазине на основе данных Corporación Favorita, крупного эквадорского розничного продавца продуктов питания.\n",
    "\n",
    "Необходимо построить модель, которая более точно прогнозирует объем продаж тысяч товаров, продаваемых в различных магазинах Favorita. Исходный набор данных содержит даты, информацию о магазинах и товарах, рекламных акциях и распродажах."
   ]
  },
  {
   "cell_type": "markdown",
   "id": "de377a61",
   "metadata": {},
   "source": [
    "## Описание исходных данных"
   ]
  },
  {
   "cell_type": "markdown",
   "id": "a986c640",
   "metadata": {},
   "source": [
    "### train.csv    \n",
    "**store_nbr** - номер магазина  \n",
    "**family** - категория товара  \n",
    "**sales** - общий объем продаж данной категории товара в указанном магазине в определенную дату. Целевая переменная.  \n",
    "**onpromotion** -  общее количество товаров в данной категории, которые продвигались в указанном магазине в указанную дату. "
   ]
  },
  {
   "cell_type": "markdown",
   "id": "ef733710",
   "metadata": {},
   "source": [
    "### test.csv  \n",
    "Тестовый набор данных. Содержит те же значения, что и train.csv, кроме целевой переменной **sales**, которую нужно предсказать"
   ]
  },
  {
   "cell_type": "markdown",
   "id": "5fe9788e",
   "metadata": {},
   "source": [
    "### stores.csv  \n",
    "Метаданные по магазинам  \n",
    "**store_nbr** - номер магазина  \n",
    "**city** - город, в котором расположен магазин  \n",
    "**state** - штат  \n",
    "**type** - тип магазина  \n",
    "**cluster** - номер кластера, в котором сгруппированы похожие магазины. "
   ]
  },
  {
   "cell_type": "markdown",
   "id": "2accecb5",
   "metadata": {},
   "source": [
    "### oil.csv  \n",
    "Ежедневные цены на нефть в течение обоих периодов, указанных в тренировочных и тестовых данных. Эквадор - страна, экономика которой сильно зависит от цен на нефть."
   ]
  },
  {
   "cell_type": "markdown",
   "id": "19773d9f",
   "metadata": {},
   "source": [
    "### holidays_events.csv  \n",
    "Праздники и события  \n",
    "ПРИМЕЧАНИЕ. Обратите особое внимание на **Transfer**. Перенесенный праздник официально приходится на этот календарный день, но был перенесен правительством на другую дату. Перенесенный день больше похож на обычный день, чем на праздник. Чтобы найти день, когда он действительно отмечался, найдите соответствующую строку, где тип — Перенос. Например, праздник Независимости Гуаякиля был перенесен с 09.10.2012 на 12.10.2012, что означает, что он отмечался 12.10.2012.  \n",
    "Дни типа **Bridge** — это дополнительные дни, которые добавляются к празднику (например, чтобы продлить перерыв на длинные выходные).   \n",
    "Тип **Work_day**, представляет собой день, обычно не запланированный для работы (например, суббота), предназначенный для окупаемости Bridge.  \n",
    "**Additional** — это дни, добавленные к обычному календарному празднику, например, как это обычно бывает перед Рождеством (сочельник становится праздником)."
   ]
  },
  {
   "cell_type": "markdown",
   "id": "b43e5cf4",
   "metadata": {},
   "source": [
    "### Дополнительные сведения  \n",
    "Заработная плата в государственном секторе выплачивается каждые две недели – 15-го и в последний день месяца. Это может повлиять на продажи в супермаркетах.\n",
    "Землетрясение магнитудой 7,8 произошло в Эквадоре 16 апреля 2016 года. Люди сплотились, чтобы оказать помощь, жертвуя воду и другие продукты первой необходимости, что сильно повлияло на продажи в супермаркетах в течение нескольких недель после землетрясения."
   ]
  },
  {
   "cell_type": "markdown",
   "id": "3103248c",
   "metadata": {},
   "source": [
    "## Решение"
   ]
  },
  {
   "cell_type": "markdown",
   "id": "c1b9c979",
   "metadata": {},
   "source": [
    "### Импорты"
   ]
  },
  {
   "cell_type": "code",
   "execution_count": 1,
   "id": "a1f61d89",
   "metadata": {},
   "outputs": [],
   "source": [
    "import pandas as pd\n",
    "import matplotlib.pyplot as plt\n",
    "import matplotlib.dates as mdates\n",
    "import matplotlib.ticker as mticker\n",
    "import seaborn as sns\n",
    "from datetime import datetime\n",
    "\n",
    "# Cleaning\n",
    "from sklearn.impute import SimpleImputer\n",
    "from sklearn.ensemble import RandomForestRegressor"
   ]
  },
  {
   "cell_type": "code",
   "execution_count": 2,
   "id": "05a4d54b",
   "metadata": {},
   "outputs": [],
   "source": [
    "# Spliting\n",
    "from sklearn.model_selection import train_test_split, GridSearchCV"
   ]
  },
  {
   "cell_type": "code",
   "execution_count": 3,
   "id": "fda17d6a",
   "metadata": {},
   "outputs": [],
   "source": [
    "# Feature Engigeering\n",
    "from sklearn.preprocessing import OneHotEncoder\n",
    "from sklearn.preprocessing import LabelEncoder, StandardScaler"
   ]
  },
  {
   "cell_type": "code",
   "execution_count": 4,
   "id": "faf2f542",
   "metadata": {},
   "outputs": [
    {
     "name": "stdout",
     "output_type": "stream",
     "text": [
      "WARNING:tensorflow:From C:\\Users\\matej\\anaconda3\\Lib\\site-packages\\keras\\src\\losses.py:2976: The name tf.losses.sparse_softmax_cross_entropy is deprecated. Please use tf.compat.v1.losses.sparse_softmax_cross_entropy instead.\n",
      "\n"
     ]
    }
   ],
   "source": [
    "# Models\n",
    "from sklearn.ensemble import RandomForestRegressor\n",
    "import tensorflow as tf\n",
    "from concurrent.futures import ThreadPoolExecutor"
   ]
  },
  {
   "cell_type": "code",
   "execution_count": 5,
   "id": "45a34ecb",
   "metadata": {},
   "outputs": [],
   "source": [
    "# Cross-validation\n",
    "from sklearn.model_selection import cross_val_score\n",
    "import numpy as np\n",
    "from sklearn.model_selection import cross_val_predict\n",
    "from sklearn.metrics import mean_squared_error\n",
    "from sklearn.model_selection import StratifiedKFold, KFold"
   ]
  },
  {
   "cell_type": "code",
   "execution_count": 6,
   "id": "9bdd3692",
   "metadata": {},
   "outputs": [],
   "source": [
    "# warnings off\n",
    "import warnings\n",
    "warnings.filterwarnings(\"ignore\")"
   ]
  },
  {
   "cell_type": "markdown",
   "id": "89aa31bd",
   "metadata": {},
   "source": [
    "### Загрузка датасетов"
   ]
  },
  {
   "cell_type": "code",
   "execution_count": 7,
   "id": "63b2e183",
   "metadata": {},
   "outputs": [
    {
     "data": {
      "text/html": [
       "<div>\n",
       "<style scoped>\n",
       "    .dataframe tbody tr th:only-of-type {\n",
       "        vertical-align: middle;\n",
       "    }\n",
       "\n",
       "    .dataframe tbody tr th {\n",
       "        vertical-align: top;\n",
       "    }\n",
       "\n",
       "    .dataframe thead th {\n",
       "        text-align: right;\n",
       "    }\n",
       "</style>\n",
       "<table border=\"1\" class=\"dataframe\">\n",
       "  <thead>\n",
       "    <tr style=\"text-align: right;\">\n",
       "      <th></th>\n",
       "      <th>id</th>\n",
       "      <th>date</th>\n",
       "      <th>store_nbr</th>\n",
       "      <th>family</th>\n",
       "      <th>sales</th>\n",
       "      <th>onpromotion</th>\n",
       "    </tr>\n",
       "  </thead>\n",
       "  <tbody>\n",
       "    <tr>\n",
       "      <th>0</th>\n",
       "      <td>0</td>\n",
       "      <td>2013-01-01</td>\n",
       "      <td>1</td>\n",
       "      <td>AUTOMOTIVE</td>\n",
       "      <td>0.0</td>\n",
       "      <td>0</td>\n",
       "    </tr>\n",
       "    <tr>\n",
       "      <th>1</th>\n",
       "      <td>1</td>\n",
       "      <td>2013-01-01</td>\n",
       "      <td>1</td>\n",
       "      <td>BABY CARE</td>\n",
       "      <td>0.0</td>\n",
       "      <td>0</td>\n",
       "    </tr>\n",
       "    <tr>\n",
       "      <th>2</th>\n",
       "      <td>2</td>\n",
       "      <td>2013-01-01</td>\n",
       "      <td>1</td>\n",
       "      <td>BEAUTY</td>\n",
       "      <td>0.0</td>\n",
       "      <td>0</td>\n",
       "    </tr>\n",
       "    <tr>\n",
       "      <th>3</th>\n",
       "      <td>3</td>\n",
       "      <td>2013-01-01</td>\n",
       "      <td>1</td>\n",
       "      <td>BEVERAGES</td>\n",
       "      <td>0.0</td>\n",
       "      <td>0</td>\n",
       "    </tr>\n",
       "    <tr>\n",
       "      <th>4</th>\n",
       "      <td>4</td>\n",
       "      <td>2013-01-01</td>\n",
       "      <td>1</td>\n",
       "      <td>BOOKS</td>\n",
       "      <td>0.0</td>\n",
       "      <td>0</td>\n",
       "    </tr>\n",
       "  </tbody>\n",
       "</table>\n",
       "</div>"
      ],
      "text/plain": [
       "   id        date  store_nbr      family  sales  onpromotion\n",
       "0   0  2013-01-01          1  AUTOMOTIVE    0.0            0\n",
       "1   1  2013-01-01          1   BABY CARE    0.0            0\n",
       "2   2  2013-01-01          1      BEAUTY    0.0            0\n",
       "3   3  2013-01-01          1   BEVERAGES    0.0            0\n",
       "4   4  2013-01-01          1       BOOKS    0.0            0"
      ]
     },
     "execution_count": 7,
     "metadata": {},
     "output_type": "execute_result"
    }
   ],
   "source": [
    "train = pd.read_csv('data/train.csv')\n",
    "train.head()"
   ]
  },
  {
   "cell_type": "code",
   "execution_count": 8,
   "id": "0f51b3c8",
   "metadata": {},
   "outputs": [
    {
     "data": {
      "text/plain": [
       "(3000888, 6)"
      ]
     },
     "execution_count": 8,
     "metadata": {},
     "output_type": "execute_result"
    }
   ],
   "source": [
    "train.shape"
   ]
  },
  {
   "cell_type": "code",
   "execution_count": 9,
   "id": "6cc8c804",
   "metadata": {},
   "outputs": [
    {
     "data": {
      "text/html": [
       "<div>\n",
       "<style scoped>\n",
       "    .dataframe tbody tr th:only-of-type {\n",
       "        vertical-align: middle;\n",
       "    }\n",
       "\n",
       "    .dataframe tbody tr th {\n",
       "        vertical-align: top;\n",
       "    }\n",
       "\n",
       "    .dataframe thead th {\n",
       "        text-align: right;\n",
       "    }\n",
       "</style>\n",
       "<table border=\"1\" class=\"dataframe\">\n",
       "  <thead>\n",
       "    <tr style=\"text-align: right;\">\n",
       "      <th></th>\n",
       "      <th>id</th>\n",
       "      <th>date</th>\n",
       "      <th>store_nbr</th>\n",
       "      <th>family</th>\n",
       "      <th>onpromotion</th>\n",
       "    </tr>\n",
       "  </thead>\n",
       "  <tbody>\n",
       "    <tr>\n",
       "      <th>0</th>\n",
       "      <td>3000888</td>\n",
       "      <td>2017-08-16</td>\n",
       "      <td>1</td>\n",
       "      <td>AUTOMOTIVE</td>\n",
       "      <td>0</td>\n",
       "    </tr>\n",
       "    <tr>\n",
       "      <th>1</th>\n",
       "      <td>3000889</td>\n",
       "      <td>2017-08-16</td>\n",
       "      <td>1</td>\n",
       "      <td>BABY CARE</td>\n",
       "      <td>0</td>\n",
       "    </tr>\n",
       "    <tr>\n",
       "      <th>2</th>\n",
       "      <td>3000890</td>\n",
       "      <td>2017-08-16</td>\n",
       "      <td>1</td>\n",
       "      <td>BEAUTY</td>\n",
       "      <td>2</td>\n",
       "    </tr>\n",
       "    <tr>\n",
       "      <th>3</th>\n",
       "      <td>3000891</td>\n",
       "      <td>2017-08-16</td>\n",
       "      <td>1</td>\n",
       "      <td>BEVERAGES</td>\n",
       "      <td>20</td>\n",
       "    </tr>\n",
       "    <tr>\n",
       "      <th>4</th>\n",
       "      <td>3000892</td>\n",
       "      <td>2017-08-16</td>\n",
       "      <td>1</td>\n",
       "      <td>BOOKS</td>\n",
       "      <td>0</td>\n",
       "    </tr>\n",
       "  </tbody>\n",
       "</table>\n",
       "</div>"
      ],
      "text/plain": [
       "        id        date  store_nbr      family  onpromotion\n",
       "0  3000888  2017-08-16          1  AUTOMOTIVE            0\n",
       "1  3000889  2017-08-16          1   BABY CARE            0\n",
       "2  3000890  2017-08-16          1      BEAUTY            2\n",
       "3  3000891  2017-08-16          1   BEVERAGES           20\n",
       "4  3000892  2017-08-16          1       BOOKS            0"
      ]
     },
     "execution_count": 9,
     "metadata": {},
     "output_type": "execute_result"
    }
   ],
   "source": [
    "test = pd.read_csv('data/test.csv')\n",
    "test.head()"
   ]
  },
  {
   "cell_type": "code",
   "execution_count": 10,
   "id": "0f90b299",
   "metadata": {},
   "outputs": [
    {
     "data": {
      "text/plain": [
       "(28512, 5)"
      ]
     },
     "execution_count": 10,
     "metadata": {},
     "output_type": "execute_result"
    }
   ],
   "source": [
    "test.shape"
   ]
  },
  {
   "cell_type": "code",
   "execution_count": 11,
   "id": "ad3b1553",
   "metadata": {},
   "outputs": [
    {
     "data": {
      "text/html": [
       "<div>\n",
       "<style scoped>\n",
       "    .dataframe tbody tr th:only-of-type {\n",
       "        vertical-align: middle;\n",
       "    }\n",
       "\n",
       "    .dataframe tbody tr th {\n",
       "        vertical-align: top;\n",
       "    }\n",
       "\n",
       "    .dataframe thead th {\n",
       "        text-align: right;\n",
       "    }\n",
       "</style>\n",
       "<table border=\"1\" class=\"dataframe\">\n",
       "  <thead>\n",
       "    <tr style=\"text-align: right;\">\n",
       "      <th></th>\n",
       "      <th>store_nbr</th>\n",
       "      <th>city</th>\n",
       "      <th>state</th>\n",
       "      <th>type</th>\n",
       "      <th>cluster</th>\n",
       "    </tr>\n",
       "  </thead>\n",
       "  <tbody>\n",
       "    <tr>\n",
       "      <th>0</th>\n",
       "      <td>1</td>\n",
       "      <td>Quito</td>\n",
       "      <td>Pichincha</td>\n",
       "      <td>D</td>\n",
       "      <td>13</td>\n",
       "    </tr>\n",
       "    <tr>\n",
       "      <th>1</th>\n",
       "      <td>2</td>\n",
       "      <td>Quito</td>\n",
       "      <td>Pichincha</td>\n",
       "      <td>D</td>\n",
       "      <td>13</td>\n",
       "    </tr>\n",
       "    <tr>\n",
       "      <th>2</th>\n",
       "      <td>3</td>\n",
       "      <td>Quito</td>\n",
       "      <td>Pichincha</td>\n",
       "      <td>D</td>\n",
       "      <td>8</td>\n",
       "    </tr>\n",
       "    <tr>\n",
       "      <th>3</th>\n",
       "      <td>4</td>\n",
       "      <td>Quito</td>\n",
       "      <td>Pichincha</td>\n",
       "      <td>D</td>\n",
       "      <td>9</td>\n",
       "    </tr>\n",
       "    <tr>\n",
       "      <th>4</th>\n",
       "      <td>5</td>\n",
       "      <td>Santo Domingo</td>\n",
       "      <td>Santo Domingo de los Tsachilas</td>\n",
       "      <td>D</td>\n",
       "      <td>4</td>\n",
       "    </tr>\n",
       "  </tbody>\n",
       "</table>\n",
       "</div>"
      ],
      "text/plain": [
       "   store_nbr           city                           state type  cluster\n",
       "0          1          Quito                       Pichincha    D       13\n",
       "1          2          Quito                       Pichincha    D       13\n",
       "2          3          Quito                       Pichincha    D        8\n",
       "3          4          Quito                       Pichincha    D        9\n",
       "4          5  Santo Domingo  Santo Domingo de los Tsachilas    D        4"
      ]
     },
     "execution_count": 11,
     "metadata": {},
     "output_type": "execute_result"
    }
   ],
   "source": [
    "stores = pd.read_csv('data/stores.csv')\n",
    "stores.head()"
   ]
  },
  {
   "cell_type": "code",
   "execution_count": 12,
   "id": "1aeb2967",
   "metadata": {},
   "outputs": [
    {
     "data": {
      "text/html": [
       "<div>\n",
       "<style scoped>\n",
       "    .dataframe tbody tr th:only-of-type {\n",
       "        vertical-align: middle;\n",
       "    }\n",
       "\n",
       "    .dataframe tbody tr th {\n",
       "        vertical-align: top;\n",
       "    }\n",
       "\n",
       "    .dataframe thead th {\n",
       "        text-align: right;\n",
       "    }\n",
       "</style>\n",
       "<table border=\"1\" class=\"dataframe\">\n",
       "  <thead>\n",
       "    <tr style=\"text-align: right;\">\n",
       "      <th></th>\n",
       "      <th>date</th>\n",
       "      <th>dcoilwtico</th>\n",
       "    </tr>\n",
       "  </thead>\n",
       "  <tbody>\n",
       "    <tr>\n",
       "      <th>0</th>\n",
       "      <td>2013-01-01</td>\n",
       "      <td>NaN</td>\n",
       "    </tr>\n",
       "    <tr>\n",
       "      <th>1</th>\n",
       "      <td>2013-01-02</td>\n",
       "      <td>93.14</td>\n",
       "    </tr>\n",
       "    <tr>\n",
       "      <th>2</th>\n",
       "      <td>2013-01-03</td>\n",
       "      <td>92.97</td>\n",
       "    </tr>\n",
       "    <tr>\n",
       "      <th>3</th>\n",
       "      <td>2013-01-04</td>\n",
       "      <td>93.12</td>\n",
       "    </tr>\n",
       "    <tr>\n",
       "      <th>4</th>\n",
       "      <td>2013-01-07</td>\n",
       "      <td>93.20</td>\n",
       "    </tr>\n",
       "  </tbody>\n",
       "</table>\n",
       "</div>"
      ],
      "text/plain": [
       "         date  dcoilwtico\n",
       "0  2013-01-01         NaN\n",
       "1  2013-01-02       93.14\n",
       "2  2013-01-03       92.97\n",
       "3  2013-01-04       93.12\n",
       "4  2013-01-07       93.20"
      ]
     },
     "execution_count": 12,
     "metadata": {},
     "output_type": "execute_result"
    }
   ],
   "source": [
    "oil = pd.read_csv('data/oil.csv')\n",
    "oil.head()"
   ]
  },
  {
   "cell_type": "code",
   "execution_count": 13,
   "id": "9ffc475c",
   "metadata": {},
   "outputs": [
    {
     "data": {
      "text/html": [
       "<div>\n",
       "<style scoped>\n",
       "    .dataframe tbody tr th:only-of-type {\n",
       "        vertical-align: middle;\n",
       "    }\n",
       "\n",
       "    .dataframe tbody tr th {\n",
       "        vertical-align: top;\n",
       "    }\n",
       "\n",
       "    .dataframe thead th {\n",
       "        text-align: right;\n",
       "    }\n",
       "</style>\n",
       "<table border=\"1\" class=\"dataframe\">\n",
       "  <thead>\n",
       "    <tr style=\"text-align: right;\">\n",
       "      <th></th>\n",
       "      <th>date</th>\n",
       "      <th>type</th>\n",
       "      <th>locale</th>\n",
       "      <th>locale_name</th>\n",
       "      <th>description</th>\n",
       "      <th>transferred</th>\n",
       "    </tr>\n",
       "  </thead>\n",
       "  <tbody>\n",
       "    <tr>\n",
       "      <th>0</th>\n",
       "      <td>2012-03-02</td>\n",
       "      <td>Holiday</td>\n",
       "      <td>Local</td>\n",
       "      <td>Manta</td>\n",
       "      <td>Fundacion de Manta</td>\n",
       "      <td>False</td>\n",
       "    </tr>\n",
       "    <tr>\n",
       "      <th>1</th>\n",
       "      <td>2012-04-01</td>\n",
       "      <td>Holiday</td>\n",
       "      <td>Regional</td>\n",
       "      <td>Cotopaxi</td>\n",
       "      <td>Provincializacion de Cotopaxi</td>\n",
       "      <td>False</td>\n",
       "    </tr>\n",
       "    <tr>\n",
       "      <th>2</th>\n",
       "      <td>2012-04-12</td>\n",
       "      <td>Holiday</td>\n",
       "      <td>Local</td>\n",
       "      <td>Cuenca</td>\n",
       "      <td>Fundacion de Cuenca</td>\n",
       "      <td>False</td>\n",
       "    </tr>\n",
       "    <tr>\n",
       "      <th>3</th>\n",
       "      <td>2012-04-14</td>\n",
       "      <td>Holiday</td>\n",
       "      <td>Local</td>\n",
       "      <td>Libertad</td>\n",
       "      <td>Cantonizacion de Libertad</td>\n",
       "      <td>False</td>\n",
       "    </tr>\n",
       "    <tr>\n",
       "      <th>4</th>\n",
       "      <td>2012-04-21</td>\n",
       "      <td>Holiday</td>\n",
       "      <td>Local</td>\n",
       "      <td>Riobamba</td>\n",
       "      <td>Cantonizacion de Riobamba</td>\n",
       "      <td>False</td>\n",
       "    </tr>\n",
       "  </tbody>\n",
       "</table>\n",
       "</div>"
      ],
      "text/plain": [
       "         date     type    locale locale_name                    description  \\\n",
       "0  2012-03-02  Holiday     Local       Manta             Fundacion de Manta   \n",
       "1  2012-04-01  Holiday  Regional    Cotopaxi  Provincializacion de Cotopaxi   \n",
       "2  2012-04-12  Holiday     Local      Cuenca            Fundacion de Cuenca   \n",
       "3  2012-04-14  Holiday     Local    Libertad      Cantonizacion de Libertad   \n",
       "4  2012-04-21  Holiday     Local    Riobamba      Cantonizacion de Riobamba   \n",
       "\n",
       "   transferred  \n",
       "0        False  \n",
       "1        False  \n",
       "2        False  \n",
       "3        False  \n",
       "4        False  "
      ]
     },
     "execution_count": 13,
     "metadata": {},
     "output_type": "execute_result"
    }
   ],
   "source": [
    "holidays = pd.read_csv('data/holidays_events.csv')\n",
    "holidays.head()"
   ]
  },
  {
   "cell_type": "markdown",
   "id": "dbff7a94",
   "metadata": {},
   "source": [
    "### Объединение датасетов"
   ]
  },
  {
   "cell_type": "code",
   "execution_count": 14,
   "id": "48843152",
   "metadata": {},
   "outputs": [],
   "source": [
    "def merge_df(df):\n",
    "    df_copy = df.copy()\n",
    "    df_merged = pd.merge(df_copy, oil, how='left', on='date')\n",
    "    df_merged = pd.merge(df_merged, stores, how='left', on='store_nbr')\n",
    "    df_merged = pd.merge(df_merged, holidays, how='left', on='date')\n",
    "    \n",
    "    return df_merged"
   ]
  },
  {
   "cell_type": "code",
   "execution_count": 15,
   "id": "44257faf",
   "metadata": {},
   "outputs": [],
   "source": [
    "train_merge = merge_df(train)\n",
    "test_merge = merge_df(test)"
   ]
  },
  {
   "cell_type": "code",
   "execution_count": 16,
   "id": "639af86e",
   "metadata": {},
   "outputs": [
    {
     "data": {
      "text/html": [
       "<div>\n",
       "<style scoped>\n",
       "    .dataframe tbody tr th:only-of-type {\n",
       "        vertical-align: middle;\n",
       "    }\n",
       "\n",
       "    .dataframe tbody tr th {\n",
       "        vertical-align: top;\n",
       "    }\n",
       "\n",
       "    .dataframe thead th {\n",
       "        text-align: right;\n",
       "    }\n",
       "</style>\n",
       "<table border=\"1\" class=\"dataframe\">\n",
       "  <thead>\n",
       "    <tr style=\"text-align: right;\">\n",
       "      <th></th>\n",
       "      <th>id</th>\n",
       "      <th>date</th>\n",
       "      <th>store_nbr</th>\n",
       "      <th>family</th>\n",
       "      <th>sales</th>\n",
       "      <th>onpromotion</th>\n",
       "      <th>dcoilwtico</th>\n",
       "      <th>city</th>\n",
       "      <th>state</th>\n",
       "      <th>type_x</th>\n",
       "      <th>cluster</th>\n",
       "      <th>type_y</th>\n",
       "      <th>locale</th>\n",
       "      <th>locale_name</th>\n",
       "      <th>description</th>\n",
       "      <th>transferred</th>\n",
       "    </tr>\n",
       "  </thead>\n",
       "  <tbody>\n",
       "    <tr>\n",
       "      <th>0</th>\n",
       "      <td>0</td>\n",
       "      <td>2013-01-01</td>\n",
       "      <td>1</td>\n",
       "      <td>AUTOMOTIVE</td>\n",
       "      <td>0.0</td>\n",
       "      <td>0</td>\n",
       "      <td>NaN</td>\n",
       "      <td>Quito</td>\n",
       "      <td>Pichincha</td>\n",
       "      <td>D</td>\n",
       "      <td>13</td>\n",
       "      <td>Holiday</td>\n",
       "      <td>National</td>\n",
       "      <td>Ecuador</td>\n",
       "      <td>Primer dia del ano</td>\n",
       "      <td>False</td>\n",
       "    </tr>\n",
       "    <tr>\n",
       "      <th>1</th>\n",
       "      <td>1</td>\n",
       "      <td>2013-01-01</td>\n",
       "      <td>1</td>\n",
       "      <td>BABY CARE</td>\n",
       "      <td>0.0</td>\n",
       "      <td>0</td>\n",
       "      <td>NaN</td>\n",
       "      <td>Quito</td>\n",
       "      <td>Pichincha</td>\n",
       "      <td>D</td>\n",
       "      <td>13</td>\n",
       "      <td>Holiday</td>\n",
       "      <td>National</td>\n",
       "      <td>Ecuador</td>\n",
       "      <td>Primer dia del ano</td>\n",
       "      <td>False</td>\n",
       "    </tr>\n",
       "    <tr>\n",
       "      <th>2</th>\n",
       "      <td>2</td>\n",
       "      <td>2013-01-01</td>\n",
       "      <td>1</td>\n",
       "      <td>BEAUTY</td>\n",
       "      <td>0.0</td>\n",
       "      <td>0</td>\n",
       "      <td>NaN</td>\n",
       "      <td>Quito</td>\n",
       "      <td>Pichincha</td>\n",
       "      <td>D</td>\n",
       "      <td>13</td>\n",
       "      <td>Holiday</td>\n",
       "      <td>National</td>\n",
       "      <td>Ecuador</td>\n",
       "      <td>Primer dia del ano</td>\n",
       "      <td>False</td>\n",
       "    </tr>\n",
       "    <tr>\n",
       "      <th>3</th>\n",
       "      <td>3</td>\n",
       "      <td>2013-01-01</td>\n",
       "      <td>1</td>\n",
       "      <td>BEVERAGES</td>\n",
       "      <td>0.0</td>\n",
       "      <td>0</td>\n",
       "      <td>NaN</td>\n",
       "      <td>Quito</td>\n",
       "      <td>Pichincha</td>\n",
       "      <td>D</td>\n",
       "      <td>13</td>\n",
       "      <td>Holiday</td>\n",
       "      <td>National</td>\n",
       "      <td>Ecuador</td>\n",
       "      <td>Primer dia del ano</td>\n",
       "      <td>False</td>\n",
       "    </tr>\n",
       "    <tr>\n",
       "      <th>4</th>\n",
       "      <td>4</td>\n",
       "      <td>2013-01-01</td>\n",
       "      <td>1</td>\n",
       "      <td>BOOKS</td>\n",
       "      <td>0.0</td>\n",
       "      <td>0</td>\n",
       "      <td>NaN</td>\n",
       "      <td>Quito</td>\n",
       "      <td>Pichincha</td>\n",
       "      <td>D</td>\n",
       "      <td>13</td>\n",
       "      <td>Holiday</td>\n",
       "      <td>National</td>\n",
       "      <td>Ecuador</td>\n",
       "      <td>Primer dia del ano</td>\n",
       "      <td>False</td>\n",
       "    </tr>\n",
       "  </tbody>\n",
       "</table>\n",
       "</div>"
      ],
      "text/plain": [
       "   id        date  store_nbr      family  sales  onpromotion  dcoilwtico  \\\n",
       "0   0  2013-01-01          1  AUTOMOTIVE    0.0            0         NaN   \n",
       "1   1  2013-01-01          1   BABY CARE    0.0            0         NaN   \n",
       "2   2  2013-01-01          1      BEAUTY    0.0            0         NaN   \n",
       "3   3  2013-01-01          1   BEVERAGES    0.0            0         NaN   \n",
       "4   4  2013-01-01          1       BOOKS    0.0            0         NaN   \n",
       "\n",
       "    city      state type_x  cluster   type_y    locale locale_name  \\\n",
       "0  Quito  Pichincha      D       13  Holiday  National     Ecuador   \n",
       "1  Quito  Pichincha      D       13  Holiday  National     Ecuador   \n",
       "2  Quito  Pichincha      D       13  Holiday  National     Ecuador   \n",
       "3  Quito  Pichincha      D       13  Holiday  National     Ecuador   \n",
       "4  Quito  Pichincha      D       13  Holiday  National     Ecuador   \n",
       "\n",
       "          description transferred  \n",
       "0  Primer dia del ano       False  \n",
       "1  Primer dia del ano       False  \n",
       "2  Primer dia del ano       False  \n",
       "3  Primer dia del ano       False  \n",
       "4  Primer dia del ano       False  "
      ]
     },
     "execution_count": 16,
     "metadata": {},
     "output_type": "execute_result"
    }
   ],
   "source": [
    "train_merge.head()"
   ]
  },
  {
   "cell_type": "code",
   "execution_count": 17,
   "id": "a1d54a86",
   "metadata": {},
   "outputs": [
    {
     "data": {
      "text/html": [
       "<div>\n",
       "<style scoped>\n",
       "    .dataframe tbody tr th:only-of-type {\n",
       "        vertical-align: middle;\n",
       "    }\n",
       "\n",
       "    .dataframe tbody tr th {\n",
       "        vertical-align: top;\n",
       "    }\n",
       "\n",
       "    .dataframe thead th {\n",
       "        text-align: right;\n",
       "    }\n",
       "</style>\n",
       "<table border=\"1\" class=\"dataframe\">\n",
       "  <thead>\n",
       "    <tr style=\"text-align: right;\">\n",
       "      <th></th>\n",
       "      <th>id</th>\n",
       "      <th>date</th>\n",
       "      <th>store_nbr</th>\n",
       "      <th>family</th>\n",
       "      <th>onpromotion</th>\n",
       "      <th>dcoilwtico</th>\n",
       "      <th>city</th>\n",
       "      <th>state</th>\n",
       "      <th>type_x</th>\n",
       "      <th>cluster</th>\n",
       "      <th>type_y</th>\n",
       "      <th>locale</th>\n",
       "      <th>locale_name</th>\n",
       "      <th>description</th>\n",
       "      <th>transferred</th>\n",
       "    </tr>\n",
       "  </thead>\n",
       "  <tbody>\n",
       "    <tr>\n",
       "      <th>0</th>\n",
       "      <td>3000888</td>\n",
       "      <td>2017-08-16</td>\n",
       "      <td>1</td>\n",
       "      <td>AUTOMOTIVE</td>\n",
       "      <td>0</td>\n",
       "      <td>46.8</td>\n",
       "      <td>Quito</td>\n",
       "      <td>Pichincha</td>\n",
       "      <td>D</td>\n",
       "      <td>13</td>\n",
       "      <td>NaN</td>\n",
       "      <td>NaN</td>\n",
       "      <td>NaN</td>\n",
       "      <td>NaN</td>\n",
       "      <td>NaN</td>\n",
       "    </tr>\n",
       "    <tr>\n",
       "      <th>1</th>\n",
       "      <td>3000889</td>\n",
       "      <td>2017-08-16</td>\n",
       "      <td>1</td>\n",
       "      <td>BABY CARE</td>\n",
       "      <td>0</td>\n",
       "      <td>46.8</td>\n",
       "      <td>Quito</td>\n",
       "      <td>Pichincha</td>\n",
       "      <td>D</td>\n",
       "      <td>13</td>\n",
       "      <td>NaN</td>\n",
       "      <td>NaN</td>\n",
       "      <td>NaN</td>\n",
       "      <td>NaN</td>\n",
       "      <td>NaN</td>\n",
       "    </tr>\n",
       "    <tr>\n",
       "      <th>2</th>\n",
       "      <td>3000890</td>\n",
       "      <td>2017-08-16</td>\n",
       "      <td>1</td>\n",
       "      <td>BEAUTY</td>\n",
       "      <td>2</td>\n",
       "      <td>46.8</td>\n",
       "      <td>Quito</td>\n",
       "      <td>Pichincha</td>\n",
       "      <td>D</td>\n",
       "      <td>13</td>\n",
       "      <td>NaN</td>\n",
       "      <td>NaN</td>\n",
       "      <td>NaN</td>\n",
       "      <td>NaN</td>\n",
       "      <td>NaN</td>\n",
       "    </tr>\n",
       "    <tr>\n",
       "      <th>3</th>\n",
       "      <td>3000891</td>\n",
       "      <td>2017-08-16</td>\n",
       "      <td>1</td>\n",
       "      <td>BEVERAGES</td>\n",
       "      <td>20</td>\n",
       "      <td>46.8</td>\n",
       "      <td>Quito</td>\n",
       "      <td>Pichincha</td>\n",
       "      <td>D</td>\n",
       "      <td>13</td>\n",
       "      <td>NaN</td>\n",
       "      <td>NaN</td>\n",
       "      <td>NaN</td>\n",
       "      <td>NaN</td>\n",
       "      <td>NaN</td>\n",
       "    </tr>\n",
       "    <tr>\n",
       "      <th>4</th>\n",
       "      <td>3000892</td>\n",
       "      <td>2017-08-16</td>\n",
       "      <td>1</td>\n",
       "      <td>BOOKS</td>\n",
       "      <td>0</td>\n",
       "      <td>46.8</td>\n",
       "      <td>Quito</td>\n",
       "      <td>Pichincha</td>\n",
       "      <td>D</td>\n",
       "      <td>13</td>\n",
       "      <td>NaN</td>\n",
       "      <td>NaN</td>\n",
       "      <td>NaN</td>\n",
       "      <td>NaN</td>\n",
       "      <td>NaN</td>\n",
       "    </tr>\n",
       "  </tbody>\n",
       "</table>\n",
       "</div>"
      ],
      "text/plain": [
       "        id        date  store_nbr      family  onpromotion  dcoilwtico   city  \\\n",
       "0  3000888  2017-08-16          1  AUTOMOTIVE            0        46.8  Quito   \n",
       "1  3000889  2017-08-16          1   BABY CARE            0        46.8  Quito   \n",
       "2  3000890  2017-08-16          1      BEAUTY            2        46.8  Quito   \n",
       "3  3000891  2017-08-16          1   BEVERAGES           20        46.8  Quito   \n",
       "4  3000892  2017-08-16          1       BOOKS            0        46.8  Quito   \n",
       "\n",
       "       state type_x  cluster type_y locale locale_name description transferred  \n",
       "0  Pichincha      D       13    NaN    NaN         NaN         NaN         NaN  \n",
       "1  Pichincha      D       13    NaN    NaN         NaN         NaN         NaN  \n",
       "2  Pichincha      D       13    NaN    NaN         NaN         NaN         NaN  \n",
       "3  Pichincha      D       13    NaN    NaN         NaN         NaN         NaN  \n",
       "4  Pichincha      D       13    NaN    NaN         NaN         NaN         NaN  "
      ]
     },
     "execution_count": 17,
     "metadata": {},
     "output_type": "execute_result"
    }
   ],
   "source": [
    "test_merge.head()"
   ]
  },
  {
   "cell_type": "markdown",
   "id": "8047c3a0",
   "metadata": {},
   "source": [
    "## Предобработка"
   ]
  },
  {
   "cell_type": "code",
   "execution_count": 18,
   "id": "ff779f56",
   "metadata": {},
   "outputs": [
    {
     "name": "stdout",
     "output_type": "stream",
     "text": [
      "<class 'pandas.core.frame.DataFrame'>\n",
      "RangeIndex: 3054348 entries, 0 to 3054347\n",
      "Data columns (total 16 columns):\n",
      " #   Column       Dtype  \n",
      "---  ------       -----  \n",
      " 0   id           int64  \n",
      " 1   date         object \n",
      " 2   store_nbr    int64  \n",
      " 3   family       object \n",
      " 4   sales        float64\n",
      " 5   onpromotion  int64  \n",
      " 6   dcoilwtico   float64\n",
      " 7   city         object \n",
      " 8   state        object \n",
      " 9   type_x       object \n",
      " 10  cluster      int64  \n",
      " 11  type_y       object \n",
      " 12  locale       object \n",
      " 13  locale_name  object \n",
      " 14  description  object \n",
      " 15  transferred  object \n",
      "dtypes: float64(2), int64(4), object(10)\n",
      "memory usage: 372.8+ MB\n"
     ]
    }
   ],
   "source": [
    "train_merge.info()"
   ]
  },
  {
   "cell_type": "markdown",
   "id": "aba8dcdd",
   "metadata": {},
   "source": [
    "Преобразуем даты в нужный формат"
   ]
  },
  {
   "cell_type": "code",
   "execution_count": 19,
   "id": "4426afbf",
   "metadata": {},
   "outputs": [],
   "source": [
    "def date_format(df):\n",
    "    df['date'] = pd.to_datetime(df['date'])\n",
    "    return df"
   ]
  },
  {
   "cell_type": "code",
   "execution_count": 20,
   "id": "d5290c08",
   "metadata": {},
   "outputs": [],
   "source": [
    "train_merge = date_format(train_merge)\n",
    "test_merge = date_format(test_merge)"
   ]
  },
  {
   "cell_type": "code",
   "execution_count": 21,
   "id": "b89ada78",
   "metadata": {},
   "outputs": [
    {
     "data": {
      "text/plain": [
       "id                   0\n",
       "date                 0\n",
       "store_nbr            0\n",
       "family               0\n",
       "sales                0\n",
       "onpromotion          0\n",
       "dcoilwtico      955152\n",
       "city                 0\n",
       "state                0\n",
       "type_x               0\n",
       "cluster              0\n",
       "type_y         2551824\n",
       "locale         2551824\n",
       "locale_name    2551824\n",
       "description    2551824\n",
       "transferred    2551824\n",
       "dtype: int64"
      ]
     },
     "execution_count": 21,
     "metadata": {},
     "output_type": "execute_result"
    }
   ],
   "source": [
    "train_merge.isna().sum()"
   ]
  },
  {
   "cell_type": "markdown",
   "id": "d4249251",
   "metadata": {},
   "source": [
    "Заполняем пропуски в ценах на нефть с помощью интерполяции:"
   ]
  },
  {
   "cell_type": "code",
   "execution_count": 22,
   "id": "dcb4d094",
   "metadata": {},
   "outputs": [],
   "source": [
    "def oil_intetpolate(df):\n",
    "    df['dcoilwtico'] = df['dcoilwtico'].interpolate()\n",
    "    return df"
   ]
  },
  {
   "cell_type": "code",
   "execution_count": 23,
   "id": "5fff3362",
   "metadata": {},
   "outputs": [],
   "source": [
    "train_merge = oil_intetpolate(train_merge)\n",
    "test_merge = oil_intetpolate(test_merge)"
   ]
  },
  {
   "cell_type": "code",
   "execution_count": 24,
   "id": "faad59e5",
   "metadata": {},
   "outputs": [
    {
     "data": {
      "text/plain": [
       "id                   0\n",
       "date                 0\n",
       "store_nbr            0\n",
       "family               0\n",
       "sales                0\n",
       "onpromotion          0\n",
       "dcoilwtico        1782\n",
       "city                 0\n",
       "state                0\n",
       "type_x               0\n",
       "cluster              0\n",
       "type_y         2551824\n",
       "locale         2551824\n",
       "locale_name    2551824\n",
       "description    2551824\n",
       "transferred    2551824\n",
       "dtype: int64"
      ]
     },
     "execution_count": 24,
     "metadata": {},
     "output_type": "execute_result"
    }
   ],
   "source": [
    "train_merge.isna().sum()"
   ]
  },
  {
   "cell_type": "markdown",
   "id": "60043a22",
   "metadata": {},
   "source": [
    "Проверяем, в какие даты у нас остались пропуски в ценах на нефть:"
   ]
  },
  {
   "cell_type": "code",
   "execution_count": 25,
   "id": "51e93abf",
   "metadata": {},
   "outputs": [
    {
     "data": {
      "text/plain": [
       "date\n",
       "2013-01-01    1782\n",
       "Name: count, dtype: int64"
      ]
     },
     "execution_count": 25,
     "metadata": {},
     "output_type": "execute_result"
    }
   ],
   "source": [
    "train_merge[train_merge['dcoilwtico'].isna()]['date'].value_counts()"
   ]
  },
  {
   "cell_type": "markdown",
   "id": "22da8689",
   "metadata": {},
   "source": [
    "Не прошла интерполяцию только самая первая дата в графике - 1 января 2013 года. Заполним ее вручную."
   ]
  },
  {
   "cell_type": "code",
   "execution_count": 26,
   "id": "558eddff",
   "metadata": {},
   "outputs": [],
   "source": [
    "def oil_fill(df):\n",
    "    df['dcoilwtico'] = df['dcoilwtico'].fillna(93)\n",
    "    return df"
   ]
  },
  {
   "cell_type": "code",
   "execution_count": 27,
   "id": "a1787978",
   "metadata": {},
   "outputs": [],
   "source": [
    "train_merge = oil_fill(train_merge)\n",
    "test_merge = oil_fill(test_merge)"
   ]
  },
  {
   "cell_type": "code",
   "execution_count": 28,
   "id": "035d1454",
   "metadata": {},
   "outputs": [
    {
     "data": {
      "text/plain": [
       "id                   0\n",
       "date                 0\n",
       "store_nbr            0\n",
       "family               0\n",
       "sales                0\n",
       "onpromotion          0\n",
       "dcoilwtico           0\n",
       "city                 0\n",
       "state                0\n",
       "type_x               0\n",
       "cluster              0\n",
       "type_y         2551824\n",
       "locale         2551824\n",
       "locale_name    2551824\n",
       "description    2551824\n",
       "transferred    2551824\n",
       "dtype: int64"
      ]
     },
     "execution_count": 28,
     "metadata": {},
     "output_type": "execute_result"
    }
   ],
   "source": [
    "train_merge.isna().sum()"
   ]
  },
  {
   "cell_type": "markdown",
   "id": "4cda9bc9",
   "metadata": {},
   "source": [
    "type_x - это тип магазина.  \n",
    "type_y - это тип праздника.  \n",
    "Переименуем эти столбцы, чтобы не путаться"
   ]
  },
  {
   "cell_type": "code",
   "execution_count": 29,
   "id": "107f330c",
   "metadata": {},
   "outputs": [],
   "source": [
    "def rename_columns(df):\n",
    "    df_copy = df.copy()\n",
    "    df_copy['type_shop'] = df_copy['type_x']\n",
    "    df_copy['type_hol'] = df_copy['type_y']\n",
    "    df_copy = df_copy.drop(columns=['type_x', 'type_y'], axis=1)\n",
    "    return df_copy"
   ]
  },
  {
   "cell_type": "code",
   "execution_count": 30,
   "id": "e4b69ce0",
   "metadata": {},
   "outputs": [],
   "source": [
    "train_merge = rename_columns(train_merge)\n",
    "test_merge = rename_columns(test_merge)"
   ]
  },
  {
   "cell_type": "code",
   "execution_count": 31,
   "id": "772f3aaa",
   "metadata": {},
   "outputs": [
    {
     "data": {
      "text/html": [
       "<div>\n",
       "<style scoped>\n",
       "    .dataframe tbody tr th:only-of-type {\n",
       "        vertical-align: middle;\n",
       "    }\n",
       "\n",
       "    .dataframe tbody tr th {\n",
       "        vertical-align: top;\n",
       "    }\n",
       "\n",
       "    .dataframe thead th {\n",
       "        text-align: right;\n",
       "    }\n",
       "</style>\n",
       "<table border=\"1\" class=\"dataframe\">\n",
       "  <thead>\n",
       "    <tr style=\"text-align: right;\">\n",
       "      <th></th>\n",
       "      <th>id</th>\n",
       "      <th>date</th>\n",
       "      <th>store_nbr</th>\n",
       "      <th>family</th>\n",
       "      <th>sales</th>\n",
       "      <th>onpromotion</th>\n",
       "      <th>dcoilwtico</th>\n",
       "      <th>city</th>\n",
       "      <th>state</th>\n",
       "      <th>cluster</th>\n",
       "      <th>locale</th>\n",
       "      <th>locale_name</th>\n",
       "      <th>description</th>\n",
       "      <th>transferred</th>\n",
       "      <th>type_shop</th>\n",
       "      <th>type_hol</th>\n",
       "    </tr>\n",
       "  </thead>\n",
       "  <tbody>\n",
       "    <tr>\n",
       "      <th>0</th>\n",
       "      <td>0</td>\n",
       "      <td>2013-01-01</td>\n",
       "      <td>1</td>\n",
       "      <td>AUTOMOTIVE</td>\n",
       "      <td>0.0</td>\n",
       "      <td>0</td>\n",
       "      <td>93.0</td>\n",
       "      <td>Quito</td>\n",
       "      <td>Pichincha</td>\n",
       "      <td>13</td>\n",
       "      <td>National</td>\n",
       "      <td>Ecuador</td>\n",
       "      <td>Primer dia del ano</td>\n",
       "      <td>False</td>\n",
       "      <td>D</td>\n",
       "      <td>Holiday</td>\n",
       "    </tr>\n",
       "    <tr>\n",
       "      <th>1</th>\n",
       "      <td>1</td>\n",
       "      <td>2013-01-01</td>\n",
       "      <td>1</td>\n",
       "      <td>BABY CARE</td>\n",
       "      <td>0.0</td>\n",
       "      <td>0</td>\n",
       "      <td>93.0</td>\n",
       "      <td>Quito</td>\n",
       "      <td>Pichincha</td>\n",
       "      <td>13</td>\n",
       "      <td>National</td>\n",
       "      <td>Ecuador</td>\n",
       "      <td>Primer dia del ano</td>\n",
       "      <td>False</td>\n",
       "      <td>D</td>\n",
       "      <td>Holiday</td>\n",
       "    </tr>\n",
       "    <tr>\n",
       "      <th>2</th>\n",
       "      <td>2</td>\n",
       "      <td>2013-01-01</td>\n",
       "      <td>1</td>\n",
       "      <td>BEAUTY</td>\n",
       "      <td>0.0</td>\n",
       "      <td>0</td>\n",
       "      <td>93.0</td>\n",
       "      <td>Quito</td>\n",
       "      <td>Pichincha</td>\n",
       "      <td>13</td>\n",
       "      <td>National</td>\n",
       "      <td>Ecuador</td>\n",
       "      <td>Primer dia del ano</td>\n",
       "      <td>False</td>\n",
       "      <td>D</td>\n",
       "      <td>Holiday</td>\n",
       "    </tr>\n",
       "    <tr>\n",
       "      <th>3</th>\n",
       "      <td>3</td>\n",
       "      <td>2013-01-01</td>\n",
       "      <td>1</td>\n",
       "      <td>BEVERAGES</td>\n",
       "      <td>0.0</td>\n",
       "      <td>0</td>\n",
       "      <td>93.0</td>\n",
       "      <td>Quito</td>\n",
       "      <td>Pichincha</td>\n",
       "      <td>13</td>\n",
       "      <td>National</td>\n",
       "      <td>Ecuador</td>\n",
       "      <td>Primer dia del ano</td>\n",
       "      <td>False</td>\n",
       "      <td>D</td>\n",
       "      <td>Holiday</td>\n",
       "    </tr>\n",
       "    <tr>\n",
       "      <th>4</th>\n",
       "      <td>4</td>\n",
       "      <td>2013-01-01</td>\n",
       "      <td>1</td>\n",
       "      <td>BOOKS</td>\n",
       "      <td>0.0</td>\n",
       "      <td>0</td>\n",
       "      <td>93.0</td>\n",
       "      <td>Quito</td>\n",
       "      <td>Pichincha</td>\n",
       "      <td>13</td>\n",
       "      <td>National</td>\n",
       "      <td>Ecuador</td>\n",
       "      <td>Primer dia del ano</td>\n",
       "      <td>False</td>\n",
       "      <td>D</td>\n",
       "      <td>Holiday</td>\n",
       "    </tr>\n",
       "  </tbody>\n",
       "</table>\n",
       "</div>"
      ],
      "text/plain": [
       "   id       date  store_nbr      family  sales  onpromotion  dcoilwtico  \\\n",
       "0   0 2013-01-01          1  AUTOMOTIVE    0.0            0        93.0   \n",
       "1   1 2013-01-01          1   BABY CARE    0.0            0        93.0   \n",
       "2   2 2013-01-01          1      BEAUTY    0.0            0        93.0   \n",
       "3   3 2013-01-01          1   BEVERAGES    0.0            0        93.0   \n",
       "4   4 2013-01-01          1       BOOKS    0.0            0        93.0   \n",
       "\n",
       "    city      state  cluster    locale locale_name         description  \\\n",
       "0  Quito  Pichincha       13  National     Ecuador  Primer dia del ano   \n",
       "1  Quito  Pichincha       13  National     Ecuador  Primer dia del ano   \n",
       "2  Quito  Pichincha       13  National     Ecuador  Primer dia del ano   \n",
       "3  Quito  Pichincha       13  National     Ecuador  Primer dia del ano   \n",
       "4  Quito  Pichincha       13  National     Ecuador  Primer dia del ano   \n",
       "\n",
       "  transferred type_shop type_hol  \n",
       "0       False         D  Holiday  \n",
       "1       False         D  Holiday  \n",
       "2       False         D  Holiday  \n",
       "3       False         D  Holiday  \n",
       "4       False         D  Holiday  "
      ]
     },
     "execution_count": 31,
     "metadata": {},
     "output_type": "execute_result"
    }
   ],
   "source": [
    "train_merge.head()"
   ]
  },
  {
   "cell_type": "markdown",
   "id": "b70d2d46",
   "metadata": {},
   "source": [
    "Заполняем пропуски в строковых колонках праздников дефисами"
   ]
  },
  {
   "cell_type": "code",
   "execution_count": 32,
   "id": "6d8606ee",
   "metadata": {},
   "outputs": [],
   "source": [
    "def no_holiday(df):\n",
    "    lst = ['type_hol', 'locale', 'locale_name', 'description', 'transferred']\n",
    "    for column in lst:\n",
    "        df[column] = df[column].fillna('-')\n",
    "    return df"
   ]
  },
  {
   "cell_type": "code",
   "execution_count": 33,
   "id": "9391ae29",
   "metadata": {},
   "outputs": [],
   "source": [
    "train_merge = no_holiday(train_merge)\n",
    "test_merge = no_holiday(test_merge)"
   ]
  },
  {
   "cell_type": "code",
   "execution_count": 34,
   "id": "978e2018",
   "metadata": {},
   "outputs": [
    {
     "data": {
      "text/plain": [
       "id             0\n",
       "date           0\n",
       "store_nbr      0\n",
       "family         0\n",
       "sales          0\n",
       "onpromotion    0\n",
       "dcoilwtico     0\n",
       "city           0\n",
       "state          0\n",
       "cluster        0\n",
       "locale         0\n",
       "locale_name    0\n",
       "description    0\n",
       "transferred    0\n",
       "type_shop      0\n",
       "type_hol       0\n",
       "dtype: int64"
      ]
     },
     "execution_count": 34,
     "metadata": {},
     "output_type": "execute_result"
    }
   ],
   "source": [
    "train_merge.isna().sum()"
   ]
  },
  {
   "cell_type": "code",
   "execution_count": 35,
   "id": "531edf13",
   "metadata": {},
   "outputs": [
    {
     "data": {
      "text/plain": [
       "id             0\n",
       "date           0\n",
       "store_nbr      0\n",
       "family         0\n",
       "onpromotion    0\n",
       "dcoilwtico     0\n",
       "city           0\n",
       "state          0\n",
       "cluster        0\n",
       "locale         0\n",
       "locale_name    0\n",
       "description    0\n",
       "transferred    0\n",
       "type_shop      0\n",
       "type_hol       0\n",
       "dtype: int64"
      ]
     },
     "execution_count": 35,
     "metadata": {},
     "output_type": "execute_result"
    }
   ],
   "source": [
    "test_merge.isna().sum()"
   ]
  },
  {
   "cell_type": "markdown",
   "id": "64707472",
   "metadata": {},
   "source": [
    "Теперь мы убедились в том, что пропуски заполнены."
   ]
  },
  {
   "cell_type": "markdown",
   "id": "f1a56f81",
   "metadata": {},
   "source": [
    "## Анализ данных"
   ]
  },
  {
   "cell_type": "code",
   "execution_count": 36,
   "id": "c99c08ef",
   "metadata": {
    "scrolled": false
   },
   "outputs": [
    {
     "data": {
      "text/html": [
       "<div>\n",
       "<style scoped>\n",
       "    .dataframe tbody tr th:only-of-type {\n",
       "        vertical-align: middle;\n",
       "    }\n",
       "\n",
       "    .dataframe tbody tr th {\n",
       "        vertical-align: top;\n",
       "    }\n",
       "\n",
       "    .dataframe thead th {\n",
       "        text-align: right;\n",
       "    }\n",
       "</style>\n",
       "<table border=\"1\" class=\"dataframe\">\n",
       "  <thead>\n",
       "    <tr style=\"text-align: right;\">\n",
       "      <th></th>\n",
       "      <th>id</th>\n",
       "      <th>date</th>\n",
       "      <th>store_nbr</th>\n",
       "      <th>sales</th>\n",
       "      <th>onpromotion</th>\n",
       "      <th>dcoilwtico</th>\n",
       "      <th>cluster</th>\n",
       "    </tr>\n",
       "  </thead>\n",
       "  <tbody>\n",
       "    <tr>\n",
       "      <th>count</th>\n",
       "      <td>3054348.000</td>\n",
       "      <td>3054348</td>\n",
       "      <td>3054348.000</td>\n",
       "      <td>3054348.000</td>\n",
       "      <td>3054348.000</td>\n",
       "      <td>3054348.000</td>\n",
       "      <td>3054348.000</td>\n",
       "    </tr>\n",
       "    <tr>\n",
       "      <th>mean</th>\n",
       "      <td>1504276.775</td>\n",
       "      <td>2015-04-26 12:11:45.717619200</td>\n",
       "      <td>27.500</td>\n",
       "      <td>359.021</td>\n",
       "      <td>2.617</td>\n",
       "      <td>67.825</td>\n",
       "      <td>8.481</td>\n",
       "    </tr>\n",
       "    <tr>\n",
       "      <th>min</th>\n",
       "      <td>0.000</td>\n",
       "      <td>2013-01-01 00:00:00</td>\n",
       "      <td>1.000</td>\n",
       "      <td>0.000</td>\n",
       "      <td>0.000</td>\n",
       "      <td>26.190</td>\n",
       "      <td>1.000</td>\n",
       "    </tr>\n",
       "    <tr>\n",
       "      <th>25%</th>\n",
       "      <td>754676.750</td>\n",
       "      <td>2014-03-01 00:00:00</td>\n",
       "      <td>14.000</td>\n",
       "      <td>0.000</td>\n",
       "      <td>0.000</td>\n",
       "      <td>46.320</td>\n",
       "      <td>4.000</td>\n",
       "    </tr>\n",
       "    <tr>\n",
       "      <th>50%</th>\n",
       "      <td>1507571.500</td>\n",
       "      <td>2015-04-28 12:00:00</td>\n",
       "      <td>27.500</td>\n",
       "      <td>11.000</td>\n",
       "      <td>0.000</td>\n",
       "      <td>53.297</td>\n",
       "      <td>8.500</td>\n",
       "    </tr>\n",
       "    <tr>\n",
       "      <th>75%</th>\n",
       "      <td>2255120.250</td>\n",
       "      <td>2016-06-22 00:00:00</td>\n",
       "      <td>41.000</td>\n",
       "      <td>196.011</td>\n",
       "      <td>0.000</td>\n",
       "      <td>95.768</td>\n",
       "      <td>13.000</td>\n",
       "    </tr>\n",
       "    <tr>\n",
       "      <th>max</th>\n",
       "      <td>3000887.000</td>\n",
       "      <td>2017-08-15 00:00:00</td>\n",
       "      <td>54.000</td>\n",
       "      <td>124717.000</td>\n",
       "      <td>741.000</td>\n",
       "      <td>110.620</td>\n",
       "      <td>17.000</td>\n",
       "    </tr>\n",
       "    <tr>\n",
       "      <th>std</th>\n",
       "      <td>866261.012</td>\n",
       "      <td>NaN</td>\n",
       "      <td>15.586</td>\n",
       "      <td>1107.286</td>\n",
       "      <td>12.255</td>\n",
       "      <td>25.681</td>\n",
       "      <td>4.650</td>\n",
       "    </tr>\n",
       "  </tbody>\n",
       "</table>\n",
       "</div>"
      ],
      "text/plain": [
       "                id                           date    store_nbr        sales  \\\n",
       "count  3054348.000                        3054348  3054348.000  3054348.000   \n",
       "mean   1504276.775  2015-04-26 12:11:45.717619200       27.500      359.021   \n",
       "min          0.000            2013-01-01 00:00:00        1.000        0.000   \n",
       "25%     754676.750            2014-03-01 00:00:00       14.000        0.000   \n",
       "50%    1507571.500            2015-04-28 12:00:00       27.500       11.000   \n",
       "75%    2255120.250            2016-06-22 00:00:00       41.000      196.011   \n",
       "max    3000887.000            2017-08-15 00:00:00       54.000   124717.000   \n",
       "std     866261.012                            NaN       15.586     1107.286   \n",
       "\n",
       "       onpromotion   dcoilwtico      cluster  \n",
       "count  3054348.000  3054348.000  3054348.000  \n",
       "mean         2.617       67.825        8.481  \n",
       "min          0.000       26.190        1.000  \n",
       "25%          0.000       46.320        4.000  \n",
       "50%          0.000       53.297        8.500  \n",
       "75%          0.000       95.768       13.000  \n",
       "max        741.000      110.620       17.000  \n",
       "std         12.255       25.681        4.650  "
      ]
     },
     "execution_count": 36,
     "metadata": {},
     "output_type": "execute_result"
    }
   ],
   "source": [
    "# Анализ числовых значений\n",
    "train_merge.describe().round(3)"
   ]
  },
  {
   "cell_type": "markdown",
   "id": "b841df4c",
   "metadata": {},
   "source": [
    "Числовые значения привязаны к временному ряду. Общая таблица (выше) в этом плане мало что может нам сказать. Интересный параметр - cluster. Проверим показатели продаж по кластерам"
   ]
  },
  {
   "cell_type": "code",
   "execution_count": 37,
   "id": "b511ac4b",
   "metadata": {},
   "outputs": [],
   "source": [
    "clusters = train_merge.groupby(['cluster']).agg({\n",
    "    'sales': 'sum',\n",
    "    'onpromotion': 'sum'\n",
    "})"
   ]
  },
  {
   "cell_type": "code",
   "execution_count": 38,
   "id": "72a6aa4c",
   "metadata": {},
   "outputs": [
    {
     "data": {
      "image/png": "[encoded data removed]",
      "text/plain": [
       "<Figure size 1000x600 with 1 Axes>"
      ]
     },
     "metadata": {},
     "output_type": "display_data"
    }
   ],
   "source": [
    "# Строим столбчатую диаграмму продаж по кластерам\n",
    "clusters.plot(kind='bar', y='sales', color = 'skyblue', figsize=(10, 6))\n",
    "\n",
    "plt.title('Total Sales by Cluster')\n",
    "plt.xlabel('Cluster')\n",
    "plt.ylabel('Total Sales')\n",
    "\n",
    "plt.show()"
   ]
  },
  {
   "cell_type": "markdown",
   "id": "86f58e11",
   "metadata": {},
   "source": [
    "Продажи по кластерам сильно разнятся. Это значит, что параметр cluster имеет очень важное значение."
   ]
  },
  {
   "cell_type": "code",
   "execution_count": 39,
   "id": "f4c0975f",
   "metadata": {
    "scrolled": false
   },
   "outputs": [
    {
     "data": {
      "image/png": "[encoded data removed]",
      "text/plain": [
       "<Figure size 1000x600 with 1 Axes>"
      ]
     },
     "metadata": {},
     "output_type": "display_data"
    }
   ],
   "source": [
    "# Строим столбчатую диаграмму количества продвигаемых товаров по кластерам\n",
    "clusters.plot(kind='bar', y='onpromotion', color='orange', figsize=(10, 6))\n",
    "\n",
    "plt.title('Total Onpromotion by Cluster')\n",
    "plt.xlabel('Cluster')\n",
    "plt.ylabel('Onpromotion')\n",
    "\n",
    "plt.show()"
   ]
  },
  {
   "cell_type": "markdown",
   "id": "7759b4ed",
   "metadata": {},
   "source": [
    "Параметр onpromotion значительно разница в зависимости от кластера. Вероятно он коррелирует с параметром sales по кластерам. Проверим корреляцию числовых признаков в датасете."
   ]
  },
  {
   "cell_type": "code",
   "execution_count": 40,
   "id": "6b305b1a",
   "metadata": {},
   "outputs": [],
   "source": [
    "# Функция, возвращающая датасет только с числовыми признаками\n",
    "def num_col(df):\n",
    "    num_col = []\n",
    "    for column in df.columns:\n",
    "        if (df[column].dtype == 'int64') or (df[column].dtype == 'float64'):\n",
    "            num_col.append(column)\n",
    "    return df[num_col]"
   ]
  },
  {
   "cell_type": "code",
   "execution_count": 41,
   "id": "e033b218",
   "metadata": {},
   "outputs": [],
   "source": [
    "train_merge_num = num_col(train_merge)"
   ]
  },
  {
   "cell_type": "code",
   "execution_count": 42,
   "id": "383ecb32",
   "metadata": {},
   "outputs": [
    {
     "data": {
      "text/html": [
       "<div>\n",
       "<style scoped>\n",
       "    .dataframe tbody tr th:only-of-type {\n",
       "        vertical-align: middle;\n",
       "    }\n",
       "\n",
       "    .dataframe tbody tr th {\n",
       "        vertical-align: top;\n",
       "    }\n",
       "\n",
       "    .dataframe thead th {\n",
       "        text-align: right;\n",
       "    }\n",
       "</style>\n",
       "<table border=\"1\" class=\"dataframe\">\n",
       "  <thead>\n",
       "    <tr style=\"text-align: right;\">\n",
       "      <th></th>\n",
       "      <th>id</th>\n",
       "      <th>store_nbr</th>\n",
       "      <th>sales</th>\n",
       "      <th>onpromotion</th>\n",
       "      <th>dcoilwtico</th>\n",
       "      <th>cluster</th>\n",
       "    </tr>\n",
       "  </thead>\n",
       "  <tbody>\n",
       "    <tr>\n",
       "      <th>id</th>\n",
       "      <td>1.000000</td>\n",
       "      <td>0.000301</td>\n",
       "      <td>0.086102</td>\n",
       "      <td>0.206032</td>\n",
       "      <td>-0.839132</td>\n",
       "      <td>-0.000044</td>\n",
       "    </tr>\n",
       "    <tr>\n",
       "      <th>store_nbr</th>\n",
       "      <td>0.000301</td>\n",
       "      <td>1.000000</td>\n",
       "      <td>0.041273</td>\n",
       "      <td>0.007744</td>\n",
       "      <td>-0.000203</td>\n",
       "      <td>-0.059284</td>\n",
       "    </tr>\n",
       "    <tr>\n",
       "      <th>sales</th>\n",
       "      <td>0.086102</td>\n",
       "      <td>0.041273</td>\n",
       "      <td>1.000000</td>\n",
       "      <td>0.428241</td>\n",
       "      <td>-0.075624</td>\n",
       "      <td>0.038537</td>\n",
       "    </tr>\n",
       "    <tr>\n",
       "      <th>onpromotion</th>\n",
       "      <td>0.206032</td>\n",
       "      <td>0.007744</td>\n",
       "      <td>0.428241</td>\n",
       "      <td>1.000000</td>\n",
       "      <td>-0.154592</td>\n",
       "      <td>0.005702</td>\n",
       "    </tr>\n",
       "    <tr>\n",
       "      <th>dcoilwtico</th>\n",
       "      <td>-0.839132</td>\n",
       "      <td>-0.000203</td>\n",
       "      <td>-0.075624</td>\n",
       "      <td>-0.154592</td>\n",
       "      <td>1.000000</td>\n",
       "      <td>0.000029</td>\n",
       "    </tr>\n",
       "    <tr>\n",
       "      <th>cluster</th>\n",
       "      <td>-0.000044</td>\n",
       "      <td>-0.059284</td>\n",
       "      <td>0.038537</td>\n",
       "      <td>0.005702</td>\n",
       "      <td>0.000029</td>\n",
       "      <td>1.000000</td>\n",
       "    </tr>\n",
       "  </tbody>\n",
       "</table>\n",
       "</div>"
      ],
      "text/plain": [
       "                   id  store_nbr     sales  onpromotion  dcoilwtico   cluster\n",
       "id           1.000000   0.000301  0.086102     0.206032   -0.839132 -0.000044\n",
       "store_nbr    0.000301   1.000000  0.041273     0.007744   -0.000203 -0.059284\n",
       "sales        0.086102   0.041273  1.000000     0.428241   -0.075624  0.038537\n",
       "onpromotion  0.206032   0.007744  0.428241     1.000000   -0.154592  0.005702\n",
       "dcoilwtico  -0.839132  -0.000203 -0.075624    -0.154592    1.000000  0.000029\n",
       "cluster     -0.000044  -0.059284  0.038537     0.005702    0.000029  1.000000"
      ]
     },
     "execution_count": 42,
     "metadata": {},
     "output_type": "execute_result"
    }
   ],
   "source": [
    "corr_matrix = train_merge_num.corr()\n",
    "corr_matrix"
   ]
  },
  {
   "cell_type": "code",
   "execution_count": 43,
   "id": "fa9bf816",
   "metadata": {},
   "outputs": [
    {
     "data": {
      "text/plain": [
       "Text(0.5, 1.0, 'Correlation Heatmap')"
      ]
     },
     "execution_count": 43,
     "metadata": {},
     "output_type": "execute_result"
    },
    {
     "data": {
      "image/png": "[encoded data removed]",
      "text/plain": [
       "<Figure size 1000x800 with 2 Axes>"
      ]
     },
     "metadata": {},
     "output_type": "display_data"
    }
   ],
   "source": [
    "# Создание тепловой карты\n",
    "plt.figure(figsize=(10, 8))\n",
    "sns.heatmap(corr_matrix, annot=True, cmap='coolwarm', fmt=\".2f\")\n",
    "plt.title('Correlation Heatmap')"
   ]
  },
  {
   "cell_type": "markdown",
   "id": "bc583c3e",
   "metadata": {},
   "source": [
    "Тепловая карта корреляции числовых признаков нам показывает, что:  \n",
    "1) Цены на нефть коррелируют с колонкой id. Вероятно, это случайное совпадение. Но в любом случае корреляция id не имеет практического смысла. В модели признак id учитываться не будет.  \n",
    "2) Несущественная корреляция между признаками onpromotion и sales, что в целом закономерно. Коэффициет 0,43 - небольшой и не будет критически влиять на модель.  \n",
    "3) Других больших коэффициентов на карте нет - это значит, что числовые данные в целом сбалансированы. Между признаками отсутствуют линейные зависимости. "
   ]
  },
  {
   "cell_type": "markdown",
   "id": "ad7432a5",
   "metadata": {},
   "source": [
    "### Цены на нефть"
   ]
  },
  {
   "cell_type": "code",
   "execution_count": 44,
   "id": "1fe8d360",
   "metadata": {},
   "outputs": [
    {
     "name": "stdout",
     "output_type": "stream",
     "text": [
      "Couldn't find program: 'false'\n"
     ]
    }
   ],
   "source": [
    "%%script false\n",
    "# Установка стиля графика\n",
    "sns.set(style=\"whitegrid\")\n",
    "\n",
    "# Создание графика\n",
    "plt.figure(figsize=(12, 6))  # Устанавливаем размер графика\n",
    "\n",
    "# Используем Seaborn для построения графика\n",
    "sns.lineplot(x='date', y='dcoilwtico', data=train_merge)\n",
    "\n",
    "# Настройка подписей осей и заголовка\n",
    "plt.xlabel('Date')\n",
    "plt.ylabel('Oil Price')\n",
    "plt.title('Oil Prices')\n",
    "\n",
    "# Поворот меток оси x, если даты слишком плотно идут\n",
    "plt.xticks(rotation=45)\n",
    "\n",
    "# Отображение графика\n",
    "plt.show()"
   ]
  },
  {
   "cell_type": "markdown",
   "id": "32985abd",
   "metadata": {},
   "source": [
    "<img src='data/oil_chart.png' />"
   ]
  },
  {
   "cell_type": "markdown",
   "id": "fb16a2b8",
   "metadata": {},
   "source": [
    "Визуально по графику можно выделить 4 зоны:  \n",
    "**Зона 0** - горизонтальный коридор цен с 2013 по середну 2014 года в значениях от 85 и выше. В этот период рынок относительно спокоен.  \n",
    "**Зона 1** - нисходящий тренд во второй половине 2014 года. Диапазон 65-85.  \n",
    "**Зона 2** - горизонтальный корридор цен в диапазоне 40-65, где рынок также относительно спокоен.  \n",
    "**Зона 3** - просадка цены на нефть ниже 40.  \n",
    "\n",
    "Валотильность цены на нефть на некоторых отрезках довольно высока. При сильном влиянии на продуктовый рынок, валотильность должна являться вспомогательным фактором, определяющим объем продаж в магазинах.  \n",
    "\n",
    "**Выводы:**  \n",
    "1. Создадим фичу ценовых зон *oil_price_zone* с указанными значениями;  \n",
    "2. Создадим фичи *delta_oil_week*, *delta_oil_month* и *delta_oil_3mon*, которые будут обозначать разницу в ценах на нефть между ценой на нефть в указанную дату и ценой на нефть за неделю, месяц и 3 месяца. "
   ]
  },
  {
   "cell_type": "code",
   "execution_count": 45,
   "id": "0fed957b",
   "metadata": {},
   "outputs": [],
   "source": [
    "# Функция создания фич по нефти\n",
    "def oil_features(df):\n",
    "    df_copy = df.copy()\n",
    "    \n",
    "    # колонка id содержит часть неуникальных значений по непонятной причине, поэтому для уверенности \n",
    "    # создадим свою колонку index, в которой все значения будут уникальными:\n",
    "    df_copy['index'] = [i  for i in range(len(df))]\n",
    "    \n",
    "    df_copy['oil_zone'] = df_copy['dcoilwtico'].apply(lambda x: 0 if x > 85 else(1 if x > 65 else(2 if x > 40 else 3)))\n",
    "    temp_df = df_copy.set_index('index')\n",
    "    \n",
    "    temp_df['oil_price_week_ago'] = temp_df['dcoilwtico'].shift(7)\n",
    "    temp_df['delta_oil_week'] = temp_df['dcoilwtico'] - temp_df['oil_price_week_ago']\n",
    "    \n",
    "    temp_df['oil_price_month_ago'] = temp_df['dcoilwtico'].shift(30)\n",
    "    temp_df['delta_oil_month'] = temp_df['dcoilwtico'] - temp_df['oil_price_month_ago']\n",
    "    \n",
    "    temp_df['oil_price_3month_ago'] = temp_df['dcoilwtico'].shift(90)\n",
    "    temp_df['delta_oil_3mon'] = temp_df['dcoilwtico'] - temp_df['oil_price_3month_ago']\n",
    "    \n",
    "    df_copy_merged = pd.merge(df_copy, temp_df[['delta_oil_week', 'delta_oil_month', \\\n",
    "                                                'delta_oil_3mon']], how='left', on='index')\n",
    "    \n",
    "    df_copy_merged.drop(columns=['index'], axis=1, inplace=True)\n",
    "    \n",
    "    return df_copy_merged"
   ]
  },
  {
   "cell_type": "code",
   "execution_count": 46,
   "id": "0853e7b4",
   "metadata": {},
   "outputs": [],
   "source": [
    "train_merge = oil_features(train_merge)\n",
    "test_merge = oil_features(test_merge)"
   ]
  },
  {
   "cell_type": "code",
   "execution_count": 47,
   "id": "a09daf07",
   "metadata": {
    "scrolled": false
   },
   "outputs": [
    {
     "data": {
      "text/plain": [
       "id                  0\n",
       "date                0\n",
       "store_nbr           0\n",
       "family              0\n",
       "sales               0\n",
       "onpromotion         0\n",
       "dcoilwtico          0\n",
       "city                0\n",
       "state               0\n",
       "cluster             0\n",
       "locale              0\n",
       "locale_name         0\n",
       "description         0\n",
       "transferred         0\n",
       "type_shop           0\n",
       "type_hol            0\n",
       "oil_zone            0\n",
       "delta_oil_week      7\n",
       "delta_oil_month    30\n",
       "delta_oil_3mon     90\n",
       "dtype: int64"
      ]
     },
     "execution_count": 47,
     "metadata": {},
     "output_type": "execute_result"
    }
   ],
   "source": [
    "train_merge.isna().sum()"
   ]
  },
  {
   "cell_type": "markdown",
   "id": "16de5e37",
   "metadata": {},
   "source": [
    "Пропуски в \"дельтах\" образовались в начале, поскольку там нет данных для рассчета. Заполним их нулями"
   ]
  },
  {
   "cell_type": "code",
   "execution_count": 48,
   "id": "eefad4d8",
   "metadata": {},
   "outputs": [],
   "source": [
    "def fillna_delta_oil(df):\n",
    "    df['delta_oil_week'] = df['delta_oil_week'].fillna(0)\n",
    "    df['delta_oil_month'] = df['delta_oil_month'].fillna(0)\n",
    "    df['delta_oil_3mon'] =df['delta_oil_3mon'].fillna(0)\n",
    "    return df"
   ]
  },
  {
   "cell_type": "code",
   "execution_count": 49,
   "id": "afd8c648",
   "metadata": {},
   "outputs": [],
   "source": [
    "train_merge = fillna_delta_oil(train_merge)\n",
    "test_merge = fillna_delta_oil(test_merge)"
   ]
  },
  {
   "cell_type": "code",
   "execution_count": 50,
   "id": "e3b39e17",
   "metadata": {},
   "outputs": [
    {
     "data": {
      "text/plain": [
       "id                 0\n",
       "date               0\n",
       "store_nbr          0\n",
       "family             0\n",
       "sales              0\n",
       "onpromotion        0\n",
       "dcoilwtico         0\n",
       "city               0\n",
       "state              0\n",
       "cluster            0\n",
       "locale             0\n",
       "locale_name        0\n",
       "description        0\n",
       "transferred        0\n",
       "type_shop          0\n",
       "type_hol           0\n",
       "oil_zone           0\n",
       "delta_oil_week     0\n",
       "delta_oil_month    0\n",
       "delta_oil_3mon     0\n",
       "dtype: int64"
      ]
     },
     "execution_count": 50,
     "metadata": {},
     "output_type": "execute_result"
    }
   ],
   "source": [
    "train_merge.isna().sum()"
   ]
  },
  {
   "cell_type": "markdown",
   "id": "fbe34638",
   "metadata": {},
   "source": [
    "### Динамика продаж"
   ]
  },
  {
   "cell_type": "code",
   "execution_count": 51,
   "id": "7df1537a",
   "metadata": {},
   "outputs": [],
   "source": [
    "train_merge['month'] = train_merge['date'].dt.to_period('M')"
   ]
  },
  {
   "cell_type": "code",
   "execution_count": 52,
   "id": "09e964f0",
   "metadata": {},
   "outputs": [],
   "source": [
    "sales_month = train_merge.groupby(['month']).agg({'sales': 'sum', 'dcoilwtico': 'mean'})\n",
    "train_merge.drop(['month'], axis=1, inplace=True)"
   ]
  },
  {
   "cell_type": "code",
   "execution_count": 53,
   "id": "2485f0f4",
   "metadata": {},
   "outputs": [],
   "source": [
    "sales_month['year'] = sales_month.index.strftime('%Y')"
   ]
  },
  {
   "cell_type": "code",
   "execution_count": 54,
   "id": "a1d985ce",
   "metadata": {},
   "outputs": [
    {
     "data": {
      "text/html": [
       "<div>\n",
       "<style scoped>\n",
       "    .dataframe tbody tr th:only-of-type {\n",
       "        vertical-align: middle;\n",
       "    }\n",
       "\n",
       "    .dataframe tbody tr th {\n",
       "        vertical-align: top;\n",
       "    }\n",
       "\n",
       "    .dataframe thead th {\n",
       "        text-align: right;\n",
       "    }\n",
       "</style>\n",
       "<table border=\"1\" class=\"dataframe\">\n",
       "  <thead>\n",
       "    <tr style=\"text-align: right;\">\n",
       "      <th></th>\n",
       "      <th>sales</th>\n",
       "      <th>dcoilwtico</th>\n",
       "      <th>year</th>\n",
       "    </tr>\n",
       "    <tr>\n",
       "      <th>month</th>\n",
       "      <th></th>\n",
       "      <th></th>\n",
       "      <th></th>\n",
       "    </tr>\n",
       "  </thead>\n",
       "  <tbody>\n",
       "    <tr>\n",
       "      <th>2013-01</th>\n",
       "      <td>1.032762e+07</td>\n",
       "      <td>94.700968</td>\n",
       "      <td>2013</td>\n",
       "    </tr>\n",
       "    <tr>\n",
       "      <th>2013-02</th>\n",
       "      <td>9.658960e+06</td>\n",
       "      <td>95.431429</td>\n",
       "      <td>2013</td>\n",
       "    </tr>\n",
       "    <tr>\n",
       "      <th>2013-03</th>\n",
       "      <td>1.142850e+07</td>\n",
       "      <td>93.237419</td>\n",
       "      <td>2013</td>\n",
       "    </tr>\n",
       "    <tr>\n",
       "      <th>2013-04</th>\n",
       "      <td>1.099346e+07</td>\n",
       "      <td>91.804667</td>\n",
       "      <td>2013</td>\n",
       "    </tr>\n",
       "    <tr>\n",
       "      <th>2013-05</th>\n",
       "      <td>1.198556e+07</td>\n",
       "      <td>94.714375</td>\n",
       "      <td>2013</td>\n",
       "    </tr>\n",
       "  </tbody>\n",
       "</table>\n",
       "</div>"
      ],
      "text/plain": [
       "                sales  dcoilwtico  year\n",
       "month                                  \n",
       "2013-01  1.032762e+07   94.700968  2013\n",
       "2013-02  9.658960e+06   95.431429  2013\n",
       "2013-03  1.142850e+07   93.237419  2013\n",
       "2013-04  1.099346e+07   91.804667  2013\n",
       "2013-05  1.198556e+07   94.714375  2013"
      ]
     },
     "execution_count": 54,
     "metadata": {},
     "output_type": "execute_result"
    }
   ],
   "source": [
    "sales_month.head()"
   ]
  },
  {
   "cell_type": "code",
   "execution_count": 55,
   "id": "1d58df9e",
   "metadata": {},
   "outputs": [
    {
     "name": "stdout",
     "output_type": "stream",
     "text": [
      "Couldn't find program: 'false'\n"
     ]
    }
   ],
   "source": [
    "%%script false\n",
    "sales_month['year'] = sales_month.index.astype(str)\n",
    "\n",
    "# Установка стиля графика \n",
    "sns.set(style=\"whitegrid\")\n",
    "\n",
    "# Создание графика\n",
    "plt.figure(figsize=(12, 6))  # Устанавливаем размер графика\n",
    "\n",
    "# Используем Seaborn для построения графика\n",
    "sns.lineplot(x='year', y='sales', data=sales_month)\n",
    "\n",
    "# Настройка подписей осей и заголовка\n",
    "plt.xlabel('Date')\n",
    "plt.ylabel('Sales')\n",
    "plt.title('Sales on monthes')\n",
    "\n",
    "# Установка шага меток оси x\n",
    "plt.xticks(rotation=45) \n",
    "\n",
    "# Отображение графика\n",
    "plt.tight_layout()\n",
    "plt.show()"
   ]
  },
  {
   "cell_type": "markdown",
   "id": "a21634b7",
   "metadata": {},
   "source": [
    "<img src='data/sales_month.png' />"
   ]
  },
  {
   "cell_type": "markdown",
   "id": "1658514a",
   "metadata": {},
   "source": [
    "Глядя на график цен можно сделать определенные выводы:  \n",
    "1) С течением времени продажи имеют положительный тренд, то есть ритейл развивается.  \n",
    "2) На протяжени графика имеются скачки вверх и вниз примерно по 0,5 миллиона. Очевидно эти скачки вызваны сезонностью либо праздниками.  \n",
    "3) В декабре 2014 года был сильный скачок вверх, а затем сильный спад в продажах с января по апрель 2015 года - эта часть графика выбивается из общей закономерности.  \n",
    "4) Резкий спад практически до нуля в августе 2017 года - вероятно эта аномалия вызвана неполными данными, так как находится в последнем периоде датасета.\n"
   ]
  },
  {
   "cell_type": "markdown",
   "id": "4d1b3082",
   "metadata": {},
   "source": [
    "### Зависимость продаж от цен на нефть"
   ]
  },
  {
   "cell_type": "markdown",
   "id": "a8a5004b",
   "metadata": {},
   "source": [
    "Совместим данные по ценам на нефть и динамике продаж на одном графике:"
   ]
  },
  {
   "cell_type": "code",
   "execution_count": 56,
   "id": "641a37ad",
   "metadata": {
    "scrolled": false
   },
   "outputs": [
    {
     "name": "stdout",
     "output_type": "stream",
     "text": [
      "Couldn't find program: 'false'\n"
     ]
    }
   ],
   "source": [
    "%%script false\n",
    "# Преобразование периодов времени в строковый формат\n",
    "sales_month['year_month'] = sales_month.index.astype(str)\n",
    "\n",
    "# Создание фигуры и осей\n",
    "fig, ax1 = plt.subplots(figsize=(12, 6))\n",
    "\n",
    "# Первая кривая - продажи\n",
    "color = 'tab:blue'\n",
    "ax1.set_xlabel('Date')\n",
    "ax1.set_ylabel('Sales', color=color)\n",
    "ax1.plot(sales_month['year_month'], sales_month['sales'], color=color)\n",
    "ax1.tick_params(axis='y', labelcolor=color)\n",
    "\n",
    "# Создание второй оси y (для цен на нефть)\n",
    "ax2 = ax1.twinx()\n",
    "color = 'tab:red'\n",
    "ax2.set_ylabel('Oil Price', color=color)\n",
    "ax2.plot(sales_month['year_month'], sales_month['dcoilwtico'], color=color)\n",
    "ax2.tick_params(axis='y', labelcolor=color)\n",
    "\n",
    "# Настройка заголовка\n",
    "plt.title('Sales and Oil Price over Time')\n",
    "\n",
    "# Настройка меток оси x\n",
    "n = 5  # каждая n-ая дата будет отображена\n",
    "ax1.set_xticks(sales_month['year_month'][::n])\n",
    "ax1.set_xticklabels(sales_month['year_month'][::n], rotation=45)\n",
    "\n",
    "# Отображение графика\n",
    "\n",
    "plt.tight_layout()\n",
    "plt.show()"
   ]
  },
  {
   "cell_type": "markdown",
   "id": "b0974865",
   "metadata": {},
   "source": [
    "<img src='data/sales_and_oil_prices.png' />"
   ]
  },
  {
   "cell_type": "markdown",
   "id": "9e3db14c",
   "metadata": {},
   "source": [
    "Глядя на график, можно сказать следующее:  \n",
    "1) Динамика цен на нефть и объем продаж в целом обратнопропорциональны. Чем ниже цена на нефть, тем больше продаж. Исключение составляет резкий спад продаж в конце 2014 года, который видимо вызван другими факторами.  \n",
    "2) Реакция рынка на изменение цены на нефть может составять несколько месяцев. Например, когда в 2014 году цена на нефть пробила нижнюю границу корридора в 95 и полетела вниз, продуктовый рынок отреагировал на это только через 2 или 3 месяца. Фича разницы цен на нефть в три месяца выглядит наиболее актуальной, но в конечном итоге мы дополнительно еще проверим их важность."
   ]
  },
  {
   "cell_type": "markdown",
   "id": "891a061e",
   "metadata": {},
   "source": [
    "Проверим аномалию, возникшую в августе 2017 года:"
   ]
  },
  {
   "cell_type": "markdown",
   "id": "92c6b52c",
   "metadata": {},
   "source": [
    "количество записей в августе:"
   ]
  },
  {
   "cell_type": "code",
   "execution_count": 57,
   "id": "397cbcb6",
   "metadata": {
    "scrolled": false
   },
   "outputs": [
    {
     "data": {
      "text/plain": [
       "28512"
      ]
     },
     "execution_count": 57,
     "metadata": {},
     "output_type": "execute_result"
    }
   ],
   "source": [
    "train_merge[train_merge['date'] > '2017-07-30'].shape[0]"
   ]
  },
  {
   "cell_type": "markdown",
   "id": "d44ca95a",
   "metadata": {},
   "source": [
    "количество записей в июле:"
   ]
  },
  {
   "cell_type": "code",
   "execution_count": 58,
   "id": "3e682494",
   "metadata": {},
   "outputs": [
    {
     "data": {
      "text/plain": [
       "57024"
      ]
     },
     "execution_count": 58,
     "metadata": {},
     "output_type": "execute_result"
    }
   ],
   "source": [
    "train_merge[(train_merge['date'] > '2017-06-30') & (train_merge['date'] < '2017-08-01')].shape[0]"
   ]
  },
  {
   "cell_type": "markdown",
   "id": "825351c8",
   "metadata": {},
   "source": [
    "количество записей в июне:"
   ]
  },
  {
   "cell_type": "code",
   "execution_count": 59,
   "id": "f34bd5a7",
   "metadata": {},
   "outputs": [
    {
     "data": {
      "text/plain": [
       "57024"
      ]
     },
     "execution_count": 59,
     "metadata": {},
     "output_type": "execute_result"
    }
   ],
   "source": [
    "train_merge[(train_merge['date'] > '2017-05-31') & (train_merge['date'] < '2017-07-01')].shape[0]"
   ]
  },
  {
   "cell_type": "markdown",
   "id": "c8e4699e",
   "metadata": {},
   "source": [
    "количество записей в мае:"
   ]
  },
  {
   "cell_type": "code",
   "execution_count": 60,
   "id": "972af06d",
   "metadata": {},
   "outputs": [
    {
     "data": {
      "text/plain": [
       "55242"
      ]
     },
     "execution_count": 60,
     "metadata": {},
     "output_type": "execute_result"
    }
   ],
   "source": [
    "train_merge[(train_merge['date'] > '2017-04-30') & (train_merge['date'] < '2017-06-01')].shape[0]"
   ]
  },
  {
   "cell_type": "markdown",
   "id": "fba34820",
   "metadata": {},
   "source": [
    "Количество записей в августе 2017 примерно в двое меньше, чем в предыдущие месяцы. Это не должно повлиять на модель при условии, что сами данные в записях корректны. Проверим график продаж по отдельным числам. Для экономии ресурса возьмем только лето 2017 года."
   ]
  },
  {
   "cell_type": "code",
   "execution_count": 61,
   "id": "651b7148",
   "metadata": {},
   "outputs": [],
   "source": [
    "sales_2017_summer = train_merge[train_merge['date'] > '2017-05-30']"
   ]
  },
  {
   "cell_type": "code",
   "execution_count": 62,
   "id": "08e350c9",
   "metadata": {},
   "outputs": [
    {
     "name": "stdout",
     "output_type": "stream",
     "text": [
      "Couldn't find program: 'false'\n"
     ]
    }
   ],
   "source": [
    "%%script false\n",
    "# Установка стиля графика \n",
    "sns.set(style=\"whitegrid\")\n",
    "\n",
    "# Создание графика\n",
    "plt.figure(figsize=(12, 6))  # Устанавливаем размер графика\n",
    "\n",
    "# Используем Seaborn для построения графика\n",
    "sns.lineplot(x='date', y='sales', data=sales_2017_summer)\n",
    "\n",
    "# Настройка подписей осей и заголовка\n",
    "plt.xlabel('Date')\n",
    "plt.ylabel('Sales')\n",
    "plt.title('Sales on summer 2017')\n",
    "\n",
    "# Установка шага меток оси x\n",
    "plt.xticks(rotation=45) \n",
    "\n",
    "# Отображение графика\n",
    "plt.tight_layout()\n",
    "plt.show()"
   ]
  },
  {
   "cell_type": "markdown",
   "id": "de582038",
   "metadata": {},
   "source": [
    "<img src='data/sales_last_days.png' />"
   ]
  },
  {
   "cell_type": "markdown",
   "id": "3ed66c88",
   "metadata": {},
   "source": [
    "На этом графике видно, что продажи за август идут без аномалий по сравнению с предыдущими месяцами. Последние записи датируются серединой августа.  \n",
    "Аномалий в продажах не обнаружено. Изменений не требуется."
   ]
  },
  {
   "cell_type": "markdown",
   "id": "35ebad47",
   "metadata": {},
   "source": [
    "### Зависимость продаж от праздников"
   ]
  },
  {
   "cell_type": "markdown",
   "id": "83c08764",
   "metadata": {},
   "source": [
    "С учетом той информации по праздникам, которая имеется, учитывая перенесенные праздники, продленные праздники, а также обычные дни, кототорые назначены выходными, необходимо создать фичу *hol_day*, которая будет принимать два значения: 1 - выходной день, 0 - рабочий. В этой фиче будут также учтены тип праздника и его региональность. \n",
    "\n",
    "Помимо этого, на величину продаж в магазинах должна влиять продолжительность праздников. Если праздники длятся в течение 2 дней и больше, то это может создавать дополнительный фактор, влияющий на продажи. Для этого можно создать фичу *len_hol*, указывающую длину праздников в днях. \n",
    "\n",
    "Нужно принять во внимание, что люди могут закупаться накануне праздников. Вероятно следует создать фичу *hol_tomorrow*, которая будет равняться 0, если завтра нет праздника, или 1 - если есть."
   ]
  },
  {
   "cell_type": "code",
   "execution_count": 63,
   "id": "054fc97a",
   "metadata": {},
   "outputs": [],
   "source": [
    "def hol_day_define(df):\n",
    "    \n",
    "    # Создаем колонку для учета праздничных дней. Пока что присваиваем всем ячейкам значение 0 (нет праздника)\n",
    "    df['hol_day'] = 0\n",
    "\n",
    "    # Локальные праздники при условии, что праздник в том же городе, где магазин:\n",
    "    df.loc[(df['locale'] == 'Local') & (df['locale_name'] == df['city']), 'hol_day'] = 1\n",
    "\n",
    "    # Региональные праздники, при условии, что праздник в том же штате, где находится магазин\n",
    "    df.loc[(df['locale'] == 'Regional') & (df['locale_name'] == df['state']), 'hol_day'] = 1\n",
    "\n",
    "    # Национальные праздники - для всех\n",
    "    df.loc[(df['locale'] == 'National'), 'hol_day'] = 1\n",
    "\n",
    "    # Если тип праздника \"Рабочий день\", значит этот день по факту не выходной:\n",
    "    df.loc[df['type_hol'] == 'Work Day', 'hol_day'] = 0\n",
    "\n",
    "    # Если праздник перенесен, то в указанную дату нет выходного дня:\n",
    "    df.loc[df['transferred'] == True, 'hol_day'] = 0\n",
    "    \n",
    "    return df"
   ]
  },
  {
   "cell_type": "code",
   "execution_count": 64,
   "id": "34e4120d",
   "metadata": {},
   "outputs": [],
   "source": [
    "train_merge = hol_day_define(train_merge)"
   ]
  },
  {
   "cell_type": "code",
   "execution_count": 65,
   "id": "96fbd3f4",
   "metadata": {},
   "outputs": [],
   "source": [
    "test_merge = hol_day_define(test_merge)"
   ]
  },
  {
   "cell_type": "markdown",
   "id": "733708a3",
   "metadata": {},
   "source": [
    "### Учет дополнительных сведений"
   ]
  },
  {
   "cell_type": "markdown",
   "id": "35dfc09a",
   "metadata": {},
   "source": [
    "Для учета дней выплаты зарплаты создадим признак *salary* со значениями 1, если есть зарплата и 0 - если ее нет в этот день."
   ]
  },
  {
   "cell_type": "code",
   "execution_count": 66,
   "id": "c65e4c62",
   "metadata": {},
   "outputs": [],
   "source": [
    "def salary_days(df):\n",
    "    df['salary'] = 0\n",
    "    df['day'] = df['date'].dt.day\n",
    "    df['month_end'] = df['date'].dt.is_month_end\n",
    "    df.loc[(df['day'] == 15) | (df['month_end']), 'salary'] = 1\n",
    "    df.drop(['day', 'month_end'], axis=1, inplace=True)\n",
    "    \n",
    "    return df   "
   ]
  },
  {
   "cell_type": "code",
   "execution_count": 67,
   "id": "9066ec0b",
   "metadata": {},
   "outputs": [],
   "source": [
    "train_merge = salary_days(train_merge)"
   ]
  },
  {
   "cell_type": "code",
   "execution_count": 68,
   "id": "cf8d7e1b",
   "metadata": {},
   "outputs": [],
   "source": [
    "test_merge = salary_days(test_merge)"
   ]
  },
  {
   "cell_type": "markdown",
   "id": "427a6170",
   "metadata": {},
   "source": [
    "Землетрясение прозошло 16 апреля 2016 года. Попробуем понять, в течение какого времени после этого дня в магазинах было больше продаж. Построим график продаж за определенный диапазон."
   ]
  },
  {
   "cell_type": "code",
   "execution_count": 69,
   "id": "342c8f48",
   "metadata": {},
   "outputs": [],
   "source": [
    "earthquake_df = train_merge[(train_merge['date'] > '2016-01-01') & (train_merge['date'] < '2016-08-01')]"
   ]
  },
  {
   "cell_type": "code",
   "execution_count": 70,
   "id": "7260d6ae",
   "metadata": {},
   "outputs": [
    {
     "name": "stdout",
     "output_type": "stream",
     "text": [
      "Couldn't find program: 'false'\n"
     ]
    }
   ],
   "source": [
    "%%script false\n",
    "# Установка стиля графика \n",
    "sns.set(style=\"whitegrid\")\n",
    "\n",
    "# Создание графика\n",
    "plt.figure(figsize=(12, 6))  # Устанавливаем размер графика\n",
    "\n",
    "# Используем Seaborn для построения графика\n",
    "sns.lineplot(x='date', y='sales', data=earthquake_df)\n",
    "\n",
    "# Настройка подписей осей и заголовка\n",
    "plt.xlabel('Date')\n",
    "plt.ylabel('Sales')\n",
    "plt.title('Earthquake april 16 2016')\n",
    "\n",
    "# Преобразование строки в объект datetime\n",
    "specified_date = datetime.strptime('2016-04-16', '%Y-%m-%d')\n",
    "\n",
    "# Добавление вертикальной линии на указанную дату\n",
    "plt.axvline(x=specified_date, color='r', linestyle='--')\n",
    "\n",
    "# Установка шага меток оси x\n",
    "plt.xticks(rotation=45) \n",
    "\n",
    "# Отображение графика\n",
    "plt.tight_layout()\n",
    "plt.show()"
   ]
  },
  {
   "cell_type": "markdown",
   "id": "64806a4d",
   "metadata": {},
   "source": [
    "<img src = 'data/earthquake.png' />"
   ]
  },
  {
   "cell_type": "markdown",
   "id": "83611056",
   "metadata": {},
   "source": [
    "Визуально на графике видно, что до землетрясения продажи колеблются примерно в диапазоне 300-550. В первую неделю после землетрясения продажи резко увеличились примерно до диапазона 570-750. В последующие 3 недели объем продаж снизился, но еще оставался больше, чем было до землетрясения.  \n",
    "Создадим фичу *earthquake* со значением 0 по-умолчанию. В первые 7 дней после землетрясения значение будет равняться 2. Затем в течение 3 недель - 1."
   ]
  },
  {
   "cell_type": "code",
   "execution_count": 71,
   "id": "ef3cafd1",
   "metadata": {},
   "outputs": [],
   "source": [
    "def earthquake_feature(df):\n",
    "    df['earthquake'] = 0\n",
    "    df.loc[(df['date'] > '2016-04-16') & (df['date'] < '2016-04-24'), 'earthquake'] = 2\n",
    "    df.loc[(df['date'] > '2016-04-24') & (df['date'] < '2016-05-15'), 'earthquake'] = 1\n",
    "    \n",
    "    return df"
   ]
  },
  {
   "cell_type": "code",
   "execution_count": 72,
   "id": "d66b7ff1",
   "metadata": {},
   "outputs": [],
   "source": [
    "train_merge = earthquake_feature(train_merge)\n",
    "test_merge = earthquake_feature(test_merge)"
   ]
  },
  {
   "cell_type": "code",
   "execution_count": 73,
   "id": "94c57dfa",
   "metadata": {},
   "outputs": [
    {
     "data": {
      "text/plain": [
       "earthquake\n",
       "0    2997324\n",
       "1      42768\n",
       "2      14256\n",
       "Name: count, dtype: int64"
      ]
     },
     "execution_count": 73,
     "metadata": {},
     "output_type": "execute_result"
    }
   ],
   "source": [
    "train_merge['earthquake'].value_counts()"
   ]
  },
  {
   "cell_type": "markdown",
   "id": "899b5229",
   "metadata": {},
   "source": [
    "## Моделирование"
   ]
  },
  {
   "cell_type": "markdown",
   "id": "3bba7738",
   "metadata": {},
   "source": [
    "### Подготовка данных"
   ]
  },
  {
   "cell_type": "code",
   "execution_count": 74,
   "id": "44b7672e",
   "metadata": {},
   "outputs": [
    {
     "name": "stdout",
     "output_type": "stream",
     "text": [
      "<class 'pandas.core.frame.DataFrame'>\n",
      "RangeIndex: 3054348 entries, 0 to 3054347\n",
      "Data columns (total 23 columns):\n",
      " #   Column           Dtype         \n",
      "---  ------           -----         \n",
      " 0   id               int64         \n",
      " 1   date             datetime64[ns]\n",
      " 2   store_nbr        int64         \n",
      " 3   family           object        \n",
      " 4   sales            float64       \n",
      " 5   onpromotion      int64         \n",
      " 6   dcoilwtico       float64       \n",
      " 7   city             object        \n",
      " 8   state            object        \n",
      " 9   cluster          int64         \n",
      " 10  locale           object        \n",
      " 11  locale_name      object        \n",
      " 12  description      object        \n",
      " 13  transferred      object        \n",
      " 14  type_shop        object        \n",
      " 15  type_hol         object        \n",
      " 16  oil_zone         int64         \n",
      " 17  delta_oil_week   float64       \n",
      " 18  delta_oil_month  float64       \n",
      " 19  delta_oil_3mon   float64       \n",
      " 20  hol_day          int64         \n",
      " 21  salary           int64         \n",
      " 22  earthquake       int64         \n",
      "dtypes: datetime64[ns](1), float64(5), int64(8), object(9)\n",
      "memory usage: 536.0+ MB\n"
     ]
    }
   ],
   "source": [
    "train_merge.info()"
   ]
  },
  {
   "cell_type": "markdown",
   "id": "7e35387e",
   "metadata": {},
   "source": [
    "Убираем лишние колонки, которые не имеют предсказательной силы:"
   ]
  },
  {
   "cell_type": "code",
   "execution_count": 75,
   "id": "a1a221a1",
   "metadata": {},
   "outputs": [],
   "source": [
    "def drop_columns(df):\n",
    "    columns_to_drop = ['date', 'description', 'transferred', 'locale_name']\n",
    "    df_copy = df.copy()\n",
    "    df_copy.drop(columns = columns_to_drop, axis=1, inplace = True)\n",
    "    \n",
    "    return df_copy    "
   ]
  },
  {
   "cell_type": "code",
   "execution_count": 76,
   "id": "4d924481",
   "metadata": {},
   "outputs": [],
   "source": [
    "train_merge = drop_columns(train_merge)\n",
    "test_merge = drop_columns(test_merge)"
   ]
  },
  {
   "cell_type": "markdown",
   "id": "a1924afb",
   "metadata": {},
   "source": [
    "Преобразуем колонки для загрузки в модель:"
   ]
  },
  {
   "cell_type": "code",
   "execution_count": 77,
   "id": "565349d7",
   "metadata": {},
   "outputs": [],
   "source": [
    "# def transform_features(df):\n",
    "#     le_col = ['locale', 'type_shop', 'type_hol']\n",
    "#     ohe_col = ['family', 'city', 'state']\n",
    "#     sc_col = ['store_nbr', 'onpromotion', 'dcoilwtico', 'cluster', 'oil_zone', 'delta_oil_week', 'delta_oil_month',\n",
    "#              'delta_oil_3mon', 'hol_day', 'salary']\n",
    "#     le = LabelEncoder()\n",
    "#     for col in le_col:\n",
    "#         df[col] = le.fit_transform(df[col])\n",
    "#     ohe = OneHotEncoder(sparse = False)\n",
    "#     for col in ohe_col:\n",
    "#         df[col] = ohe.fit_transform(df[col].values.reshape(-1, 1))\n",
    "#     sc = StandardScaler()\n",
    "#     df[sc_col] = sc.fit_transform(df[sc_col])\n",
    "\n",
    "#     return df"
   ]
  },
  {
   "cell_type": "code",
   "execution_count": 84,
   "id": "ba26870d",
   "metadata": {},
   "outputs": [],
   "source": [
    "def transform_features(df):\n",
    "    le_col = ['locale', 'type_shop', 'type_hol', 'family', 'city', 'state']\n",
    "    sc_col = ['store_nbr', 'onpromotion', 'dcoilwtico', 'cluster', 'oil_zone', 'delta_oil_week', 'delta_oil_month',\n",
    "             'delta_oil_3mon', 'hol_day', 'salary']\n",
    "    \n",
    "    # Label Encoding\n",
    "    le = LabelEncoder()\n",
    "    for col in le_col:\n",
    "        df[col] = le.fit_transform(df[col])\n",
    "    \n",
    "    # Standard Scaling\n",
    "    sc = StandardScaler()\n",
    "    df[sc_col] = sc.fit_transform(df[sc_col])\n",
    "\n",
    "    return df"
   ]
  },
  {
   "cell_type": "code",
   "execution_count": 85,
   "id": "2f5dd2c5",
   "metadata": {},
   "outputs": [],
   "source": [
    "train_transformed = transform_features(train_merge)\n",
    "test_transformed = transform_features(test_merge)"
   ]
  },
  {
   "cell_type": "markdown",
   "id": "2c248d81",
   "metadata": {},
   "source": [
    "### Расчет важности признаков"
   ]
  },
  {
   "cell_type": "code",
   "execution_count": 91,
   "id": "9a54558e",
   "metadata": {},
   "outputs": [],
   "source": [
    "# Загрузите ваши данные\n",
    "X = train_transformed.drop(columns=['id', 'sales'], axis=1)\n",
    "y = train_transformed['sales']"
   ]
  },
  {
   "cell_type": "code",
   "execution_count": 93,
   "id": "ca55d69b",
   "metadata": {},
   "outputs": [
    {
     "name": "stdout",
     "output_type": "stream",
     "text": [
      "Couldn't find program: 'false'\n"
     ]
    }
   ],
   "source": [
    "%%script false\n",
    "# Создание модели случайного леса\n",
    "model = RandomForestRegressor(n_estimators=10, random_state=42)\n",
    "\n",
    "# Обучение модель на данных\n",
    "model.fit(X, y)\n",
    "\n",
    "# Получаем важность признаков\n",
    "feature_importance = model.feature_importances_\n",
    "\n",
    "# Создаем DataFrame, чтобы удобно отобразить результаты\n",
    "feature_importance_df = pd.DataFrame({'Feature': X.columns, 'Importance': feature_importance})\n",
    "\n",
    "# Сортируем признаки по важности в убывающем порядке\n",
    "feature_importance_df = feature_importance_df.sort_values(by='Importance', ascending=False)\n",
    "\n",
    "# Визуализируем важность признаков\n",
    "plt.figure(figsize=(10, 6))\n",
    "plt.barh(feature_importance_df['Feature'], feature_importance_df['Importance'])\n",
    "plt.xlabel('Feature Importance')\n",
    "plt.ylabel('Features')\n",
    "plt.title('Random Forest Feature Importance')\n",
    "plt.show()"
   ]
  },
  {
   "cell_type": "markdown",
   "id": "b2f97747",
   "metadata": {},
   "source": [
    "<img src='data/feature_importance.png' />"
   ]
  },
  {
   "cell_type": "markdown",
   "id": "1122bcb9",
   "metadata": {},
   "source": [
    "Выводы по диаграмме:  \n",
    "1) Значение цены на нефть имеет большее значение, чем величина ее изменения в различные периоды. Хотя \"дельты\" тоже немаловажны. \n",
    "2) Дельты независимо от периода имеют одинаковое значение, что немного удивительно.\n",
    "3) Признак 'oil_zone' оказался незначительным.  \n",
    "4) Землетрясение, праздники, зарплата, как это не удивительно, большого влияния на предикты не оказали.  \n",
    "5) Город и штат имеют \"пограничные\" значения. В первую очередь попробуем их включить в модель.\n"
   ]
  },
  {
   "cell_type": "markdown",
   "id": "4ff68816",
   "metadata": {},
   "source": [
    "### Подготовка модели"
   ]
  },
  {
   "cell_type": "code",
   "execution_count": 94,
   "id": "ce9d416b",
   "metadata": {},
   "outputs": [],
   "source": [
    "def drop_unimportant(df):\n",
    "    unimportant_features = ['oil_zone', 'salary', 'locale', 'hol_day', 'type_hol', 'earthquake']\n",
    "    df_copy = df.copy()\n",
    "    df_copy.drop(columns = unimportant_features, axis=1, inplace=True)\n",
    "    \n",
    "    return df_copy"
   ]
  },
  {
   "cell_type": "code",
   "execution_count": 95,
   "id": "a23d9dfb",
   "metadata": {},
   "outputs": [],
   "source": [
    "train_model = drop_unimportant(train_transformed)\n",
    "test_model = drop_unimportant(test_transformed)"
   ]
  },
  {
   "cell_type": "markdown",
   "id": "f98bec90",
   "metadata": {},
   "source": [
    "### Модель"
   ]
  },
  {
   "cell_type": "code",
   "execution_count": 96,
   "id": "5035fb0d",
   "metadata": {},
   "outputs": [
    {
     "name": "stdout",
     "output_type": "stream",
     "text": [
      "WARNING:tensorflow:From C:\\Users\\matej\\anaconda3\\Lib\\site-packages\\keras\\src\\backend.py:873: The name tf.get_default_graph is deprecated. Please use tf.compat.v1.get_default_graph instead.\n",
      "\n",
      "WARNING:tensorflow:From C:\\Users\\matej\\anaconda3\\Lib\\site-packages\\keras\\src\\optimizers\\__init__.py:309: The name tf.train.Optimizer is deprecated. Please use tf.compat.v1.train.Optimizer instead.\n",
      "\n",
      "Epoch 1/10\n",
      "WARNING:tensorflow:From C:\\Users\\matej\\anaconda3\\Lib\\site-packages\\keras\\src\\utils\\tf_utils.py:492: The name tf.ragged.RaggedTensorValue is deprecated. Please use tf.compat.v1.ragged.RaggedTensorValue instead.\n",
      "\n",
      "16704/16704 [==============================] - 24s 1ms/step - loss: 984937.8125 - val_loss: 883249.6875\n",
      "Epoch 2/10\n",
      "16704/16704 [==============================] - 22s 1ms/step - loss: 891686.8750 - val_loss: 846596.3125\n",
      "Epoch 3/10\n",
      "16704/16704 [==============================] - 22s 1ms/step - loss: 863535.9375 - val_loss: 827987.5625\n",
      "Epoch 4/10\n",
      "16704/16704 [==============================] - 22s 1ms/step - loss: 849598.2500 - val_loss: 818018.0000\n",
      "Epoch 5/10\n",
      "16704/16704 [==============================] - 22s 1ms/step - loss: 841287.3125 - val_loss: 810963.3125\n",
      "Epoch 6/10\n",
      "16704/16704 [==============================] - 22s 1ms/step - loss: 834396.1875 - val_loss: 804341.3125\n",
      "Epoch 7/10\n",
      "16704/16704 [==============================] - 22s 1ms/step - loss: 828216.3125 - val_loss: 798856.7500\n",
      "Epoch 8/10\n",
      "16704/16704 [==============================] - 22s 1ms/step - loss: 822352.2500 - val_loss: 793299.8125\n",
      "Epoch 9/10\n",
      "16704/16704 [==============================] - 22s 1ms/step - loss: 817250.5625 - val_loss: 788727.5625\n",
      "Epoch 10/10\n",
      "16704/16704 [==============================] - 22s 1ms/step - loss: 812965.9375 - val_loss: 784849.8750\n"
     ]
    },
    {
     "data": {
      "text/plain": [
       "<keras.src.callbacks.History at 0x18ac4c77990>"
      ]
     },
     "execution_count": 96,
     "metadata": {},
     "output_type": "execute_result"
    }
   ],
   "source": [
    "# Удаление столбца \"id\"\n",
    "train_model = train_model.drop(columns=['id'])\n",
    "\n",
    "# Разделение данных на признаки и целевую переменную\n",
    "X = train_model.drop(columns=['sales'])\n",
    "y = train_model['sales']\n",
    "\n",
    "# Разделение на обучающий и тестовый наборы\n",
    "X_train, X_test, y_train, y_test = train_test_split(X, y, test_size=0.3, random_state=42)\n",
    "\n",
    "# Определение размера мини-пакета\n",
    "batch_size = 128\n",
    "\n",
    "# Создание tf.data.Dataset из данных\n",
    "train_dataset = tf.data.Dataset.from_tensor_slices((X_train, y_train))\n",
    "train_dataset = train_dataset.batch(batch_size)\n",
    "\n",
    "test_dataset = tf.data.Dataset.from_tensor_slices((X_test, y_test))\n",
    "test_dataset = test_dataset.batch(batch_size)\n",
    "\n",
    "# Создание модели\n",
    "model = tf.keras.Sequential([\n",
    "    tf.keras.layers.Dense(64, activation='relu', kernel_regularizer=tf.keras.regularizers.l2(0.01),\n",
    "                          input_shape=(X.shape[1],)),\n",
    "    tf.keras.layers.Dense(1)  # Один выходной нейрон для регрессии\n",
    "\n",
    "])\n",
    "\n",
    "\n",
    "# Компиляция модели\n",
    "model.compile(optimizer='adam', loss='mean_squared_error')\n",
    "\n",
    "# Обучение модели с мини-пакетами\n",
    "model.fit(X_train, y_train, batch_size=batch_size, epochs=10, validation_data=(X_test, y_test))"
   ]
  },
  {
   "cell_type": "code",
   "execution_count": 97,
   "id": "6c7906d6",
   "metadata": {},
   "outputs": [
    {
     "name": "stdout",
     "output_type": "stream",
     "text": [
      "28635/28635 [==============================] - 24s 827us/step\n",
      "RMSE: 885.8204234414063\n"
     ]
    }
   ],
   "source": [
    "# Прогнозирование на тестовом наборе\n",
    "y_pred = model.predict(X_test)\n",
    "\n",
    "# Вычисление RMSE\n",
    "rmse = np.sqrt(mean_squared_error(y_test, y_pred))\n",
    "print(\"RMSE:\", rmse)"
   ]
  },
  {
   "cell_type": "markdown",
   "id": "72fc336f",
   "metadata": {},
   "source": [
    "### Обучение на полных данных и предикт"
   ]
  },
  {
   "cell_type": "code",
   "execution_count": 98,
   "id": "12083c5e",
   "metadata": {},
   "outputs": [
    {
     "name": "stdout",
     "output_type": "stream",
     "text": [
      "95449/95449 [==============================] - 94s 983us/step - loss: 799349.7500\n"
     ]
    },
    {
     "data": {
      "text/plain": [
       "<keras.src.callbacks.History at 0x18ad30fe5d0>"
      ]
     },
     "execution_count": 98,
     "metadata": {},
     "output_type": "execute_result"
    }
   ],
   "source": [
    "model.fit(X, y)"
   ]
  },
  {
   "cell_type": "code",
   "execution_count": 100,
   "id": "fbf4da43",
   "metadata": {},
   "outputs": [
    {
     "name": "stdout",
     "output_type": "stream",
     "text": [
      "891/891 [==============================] - 1s 847us/step\n"
     ]
    }
   ],
   "source": [
    "prediction = model.predict(test_model.drop(columns='id'))\n",
    "test_model['sales'] = prediction\n",
    "submission = test_model[['id', 'sales']]"
   ]
  },
  {
   "cell_type": "code",
   "execution_count": 101,
   "id": "ae08ca6c",
   "metadata": {},
   "outputs": [],
   "source": [
    "submission.to_csv('submission_12-02-2024.csv', index=False)"
   ]
  },
  {
   "cell_type": "markdown",
   "id": "cd5a77aa",
   "metadata": {},
   "source": [
    "<img src='data/leaderboard.png' />"
   ]
  },
  {
   "cell_type": "code",
   "execution_count": null,
   "id": "f63354c1",
   "metadata": {},
   "outputs": [],
   "source": []
  }
 ],
 "metadata": {
  "kernelspec": {
   "display_name": "Python 3 (ipykernel)",
   "language": "python",
   "name": "python3"
  },
  "language_info": {
   "codemirror_mode": {
    "name": "ipython",
    "version": 3
   },
   "file_extension": ".py",
   "mimetype": "text/x-python",
   "name": "python",
   "nbconvert_exporter": "python",
   "pygments_lexer": "ipython3",
   "version": "3.11.5"
  },
  "toc": {
   "base_numbering": 1,
   "nav_menu": {},
   "number_sections": true,
   "sideBar": true,
   "skip_h1_title": false,
   "title_cell": "Table of Contents",
   "title_sidebar": "Contents",
   "toc_cell": false,
   "toc_position": {
    "height": "calc(100% - 180px)",
    "left": "10px",
    "top": "150px",
    "width": "268.545px"
   },
   "toc_section_display": true,
   "toc_window_display": true
  }
 },
 "nbformat": 4,
 "nbformat_minor": 5
}
